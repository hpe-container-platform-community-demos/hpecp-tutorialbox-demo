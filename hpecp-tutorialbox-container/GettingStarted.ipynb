{
 "cells": [
  {
   "cell_type": "markdown",
   "metadata": {},
   "source": [
    "## Welcome to HPE Container Platform Tutorialbox Container"
   ]
  },
  {
   "cell_type": "code",
   "execution_count": null,
   "metadata": {},
   "outputs": [],
   "source": []
  },
  {
   "cell_type": "markdown",
   "metadata": {},
   "source": [
    "## Configure the Environment"
   ]
  },
  {
   "cell_type": "code",
   "execution_count": 2,
   "metadata": {},
   "outputs": [
    {
     "name": "stdout",
     "output_type": "stream",
     "text": [
      "\u001b[1mNAME\u001b[0m\n",
      "    hpecp\n",
      "\n",
      "\u001b[1mSYNOPSIS\u001b[0m\n",
      "    hpecp \u001b[4mGROUP\u001b[0m | \u001b[4mCOMMAND\u001b[0m\n",
      "\n",
      "\u001b[1mGROUPS\u001b[0m\n",
      "    \u001b[1m\u001b[4mGROUP\u001b[0m\u001b[0m is one of the following:\n",
      "\n",
      "     autocomplete\n",
      "       Example Usage:\n",
      "\n",
      "     gateway\n",
      "\n",
      "     httpclient\n",
      "\n",
      "     k8scluster\n",
      "\n",
      "     k8sworker\n",
      "\n",
      "     license\n",
      "\n",
      "     lock\n",
      "\n",
      "     user\n",
      "\n",
      "\u001b[1mCOMMANDS\u001b[0m\n",
      "    \u001b[1m\u001b[4mCOMMAND\u001b[0m\u001b[0m is one of the following:\n",
      "\n",
      "     configure_cli\n"
     ]
    }
   ],
   "source": [
    "hpecp"
   ]
  },
  {
   "cell_type": "code",
   "execution_count": null,
   "metadata": {},
   "outputs": [],
   "source": []
  },
  {
   "cell_type": "code",
   "execution_count": null,
   "metadata": {},
   "outputs": [],
   "source": []
  },
  {
   "cell_type": "code",
   "execution_count": null,
   "metadata": {},
   "outputs": [],
   "source": []
  }
 ],
 "metadata": {
  "kernelspec": {
   "display_name": "Bash",
   "language": "bash",
   "name": "bash"
  },
  "language_info": {
   "codemirror_mode": "shell",
   "file_extension": ".sh",
   "mimetype": "text/x-sh",
   "name": "bash"
  }
 },
 "nbformat": 4,
 "nbformat_minor": 4
}
