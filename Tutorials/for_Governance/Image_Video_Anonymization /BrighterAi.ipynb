{
 "cells": [
  {
   "cell_type": "markdown",
   "metadata": {},
   "source": [
    "# Brighter AI on HPE EZMERAL CONTAINER PLATFORM FOR ANONYMIZATION of VIDEO and IMAGES for AI WORKLOADS\n",
    "\n"
   ]
  },
  {
   "cell_type": "markdown",
   "metadata": {},
   "source": [
    "### List the available Container Platform Clusters in your Environment\n"
   ]
  },
  {
   "cell_type": "code",
   "execution_count": 4,
   "metadata": {},
   "outputs": [
    {
     "name": "stdout",
     "output_type": "stream",
     "text": [
      "Switched to context \"CTC\".\n"
     ]
    }
   ],
   "source": [
    "kubectx CTC"
   ]
  },
  {
   "cell_type": "markdown",
   "metadata": {},
   "source": [
    "### Set the tenant where you want to deploy the K8S Application"
   ]
  },
  {
   "cell_type": "code",
   "execution_count": 7,
   "metadata": {},
   "outputs": [
    {
     "name": "stdout",
     "output_type": "stream",
     "text": [
      "Context \"CTC\" modified.\n",
      "Active namespace is \"ezmeral-dach\".\n"
     ]
    }
   ],
   "source": [
    "kubens ezmeral-dach"
   ]
  },
  {
   "cell_type": "code",
   "execution_count": null,
   "metadata": {},
   "outputs": [],
   "source": [
    "#cat << 'EOF' |  kubectl create secret docker-registry regcred --docker-server=docker.brighter.ai --docker-username=enterprise --docker-password=********************************\n",
    "#EOF"
   ]
  },
  {
   "cell_type": "code",
   "execution_count": null,
   "metadata": {},
   "outputs": [],
   "source": [
    "kubectl get secrets regcred -o yaml"
   ]
  },
  {
   "cell_type": "code",
   "execution_count": null,
   "metadata": {},
   "outputs": [],
   "source": []
  },
  {
   "cell_type": "code",
   "execution_count": 55,
   "metadata": {},
   "outputs": [
    {
     "name": "stdout",
     "output_type": "stream",
     "text": [
      "service/brighterai created\n",
      "deployment.apps/brighterai created\n"
     ]
    }
   ],
   "source": [
    "cat << 'EOF' | kubectl apply -f -\n",
    "\n",
    "---\n",
    "apiVersion: v1\n",
    "kind: Service\n",
    "metadata:\n",
    "  name: brighterai\n",
    "  labels:\n",
    "    hpecp.hpe.com/hpecp-internal-gateway: \"true\"\n",
    "spec:\n",
    "  selector:\n",
    "    app: brighterai\n",
    "  ports:\n",
    "  - port: 8787\n",
    "    name: http-brighterai\n",
    "  type: NodePort\n",
    "  \n",
    "---\n",
    "apiVersion: apps/v1\n",
    "kind: Deployment\n",
    "metadata:\n",
    "  name: brighterai\n",
    "spec:\n",
    "  selector:\n",
    "    matchLabels:\n",
    "      app: brighterai\n",
    "  strategy:\n",
    "    type: Recreate\n",
    "  template:\n",
    "    metadata:\n",
    "      labels:\n",
    "        app: brighterai\n",
    "    spec:\n",
    "      containers:\n",
    "      - image: docker.brighter.ai/identity-protection-suite:latest\n",
    "        name: brighterai\n",
    "        resources:\n",
    "          requests:\n",
    "            memory: \"10Gi\"\n",
    "            cpu: \"1000m\"\n",
    "          #  nvidia.com/gpu: \"1\"\n",
    "          limits:\n",
    "            memory: \"10Gi\"\n",
    "            cpu: \"1000m\"\n",
    "           # nvidia.com/gpu: \"1\"\n",
    "      imagePullSecrets:\n",
    "      - name: regcred\n",
    "\n",
    "\n",
    "EOF"
   ]
  },
  {
   "cell_type": "code",
   "execution_count": 60,
   "metadata": {},
   "outputs": [
    {
     "name": "stdout",
     "output_type": "stream",
     "text": [
      "NAME                          READY   STATUS    RESTARTS   AGE\n",
      "brighterai-55c9b48547-sht25   1/1     Running   0          3d23h\n"
     ]
    }
   ],
   "source": [
    "kubectl get pods brighterai-55c9b48547-sht25\n"
   ]
  },
  {
   "cell_type": "code",
   "execution_count": null,
   "metadata": {},
   "outputs": [],
   "source": []
  },
  {
   "cell_type": "code",
   "execution_count": 58,
   "metadata": {},
   "outputs": [
    {
     "name": "stdout",
     "output_type": "stream",
     "text": [
      "Name:                     brighterai\n",
      "Namespace:                ezmeral-dach\n",
      "Labels:                   hpecp.hpe.com/hpecp-internal-gateway=true\n",
      "Annotations:              hpecp-internal-gateway/8787: ezmeral52gateway1.demo.local:10145\n",
      "Selector:                 app=brighterai\n",
      "Type:                     NodePort\n",
      "IP:                       10.101.12.147\n",
      "Port:                     http-brighterai  8787/TCP\n",
      "TargetPort:               8787/TCP\n",
      "NodePort:                 http-brighterai  30461/TCP\n",
      "Endpoints:                10.192.2.162:8787\n",
      "Session Affinity:         None\n",
      "External Traffic Policy:  Cluster\n",
      "Events:\n",
      "  Type    Reason  Age   From         Message\n",
      "  ----    ------  ----  ----         -------\n",
      "  Normal  HpeCp   18s   hpecp-agent  Created HPECP K8S service\n"
     ]
    }
   ],
   "source": [
    "kubectl describe svc brighterai"
   ]
  },
  {
   "cell_type": "code",
   "execution_count": null,
   "metadata": {},
   "outputs": [],
   "source": []
  }
 ],
 "metadata": {
  "kernelspec": {
   "display_name": "Bash",
   "language": "bash",
   "name": "bash"
  },
  "language_info": {
   "codemirror_mode": "shell",
   "file_extension": ".sh",
   "mimetype": "text/x-sh",
   "name": "bash"
  }
 },
 "nbformat": 4,
 "nbformat_minor": 4
}
