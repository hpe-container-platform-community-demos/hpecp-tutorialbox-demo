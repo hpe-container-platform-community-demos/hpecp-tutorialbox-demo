{
 "cells": [
  {
   "cell_type": "markdown",
   "metadata": {},
   "source": [
    "# k8s Deploment Streamset with PVC"
   ]
  },
  {
   "cell_type": "markdown",
   "metadata": {},
   "source": [
    "## connect to server"
   ]
  },
  {
   "cell_type": "code",
   "execution_count": 1,
   "metadata": {
    "ExecuteTime": {
     "end_time": "2020-04-08T08:32:32.295411Z",
     "start_time": "2020-04-08T08:32:32.180898Z"
    },
    "scrolled": true
   },
   "outputs": [
    {
     "name": "stdout",
     "output_type": "stream",
     "text": [
      " Airflow.ipynb\n",
      "'Apache Superset.ipynb'\n",
      " application.yaml\n",
      " development_admin_kubeconfig-2\n",
      " drill.yaml\n",
      " Elastisearch.ipynb\n",
      " Example.ipynb\n",
      " get-helm3\n",
      " Github\n",
      " Harbor-Registry.ipynb\n",
      " HELM.ipynb\n",
      "'HPE Container Platform Demos-Copy1.ipynb'\n",
      " HPE_Container_Platform_Tutorial_Guestbook.ipynb\n",
      " Jupyterhub.ipynb\n",
      " kubectx\n",
      " kustomization.yaml\n",
      " MapR-Drill-Operator.ipynb\n",
      " MapR-DSR.ipynb\n",
      " MapR-DSR-Rstudio.ipynb\n",
      " MapR-Persistent-Storage.ipynb\n",
      " MapR-Spark-Operator.ipynb\n",
      " mysql-deployment.yaml\n",
      " NIFI.ipynb\n",
      " Postgres.ipynb\n",
      " preproduction_admin_kubeconfig\n",
      " Production_admin_kubeconfig\n",
      " Rstudio-and-MapR.ipynb\n",
      "'Streamset - not ready.ipynb'\n",
      " Streamsets.ipynb\n",
      " Untitled.ipynb\n",
      " untitled.md\n",
      " untitled.txt\n",
      " Wordpress-Example.ipynb\n"
     ]
    }
   ],
   "source": [
    "ls "
   ]
  },
  {
   "cell_type": "code",
   "execution_count": 2,
   "metadata": {
    "ExecuteTime": {
     "end_time": "2020-04-08T08:57:35.227416Z",
     "start_time": "2020-04-08T08:57:35.121138Z"
    }
   },
   "outputs": [],
   "source": [
    "export KUBECONFIG=development_admin_kubeconfig-2 "
   ]
  },
  {
   "cell_type": "code",
   "execution_count": 3,
   "metadata": {
    "ExecuteTime": {
     "end_time": "2020-04-08T08:57:37.502230Z",
     "start_time": "2020-04-08T08:57:37.111214Z"
    }
   },
   "outputs": [
    {
     "name": "stdout",
     "output_type": "stream",
     "text": [
      "NAME                                       STATUS   ROLES    AGE   VERSION\n",
      "ip-10-1-0-122.eu-west-3.compute.internal   Ready    worker   25d   v1.17.0\n",
      "ip-10-1-0-154.eu-west-3.compute.internal   Ready    worker   25d   v1.17.0\n",
      "ip-10-1-0-16.eu-west-3.compute.internal    Ready    master   33d   v1.17.0\n",
      "ip-10-1-0-254.eu-west-3.compute.internal   Ready    worker   25d   v1.17.0\n",
      "ip-10-1-0-56.eu-west-3.compute.internal    Ready    worker   33d   v1.17.0\n",
      "ip-10-1-0-64.eu-west-3.compute.internal    Ready    worker   33d   v1.17.0\n"
     ]
    }
   ],
   "source": [
    "kubectl get nodes"
   ]
  },
  {
   "cell_type": "markdown",
   "metadata": {},
   "source": [
    "## create Tickets in your tenant-namespace"
   ]
  },
  {
   "cell_type": "code",
   "execution_count": 23,
   "metadata": {},
   "outputs": [
    {
     "name": "stdout",
     "output_type": "stream",
     "text": [
      "serviceaccount/mapr-apps-sa created\n",
      "secret/mapr-ticket-hcp-secret created\n"
     ]
    }
   ],
   "source": [
    "cat << 'EOF' | kubectl create -f -\n",
    "# MapR Apps ServiceAccount\n",
    "---\n",
    "apiVersion: v1\n",
    "kind: ServiceAccount\n",
    "metadata:\n",
    "  name: mapr-apps-sa\n",
    "  namespace: researchgroup1\n",
    "\n",
    "# Ticket to authenticate with HPE Container Platform internal Data Fabric\n",
    "---\n",
    "apiVersion: v1\n",
    "kind: Secret\n",
    "metadata:\n",
    "  name: mapr-ticket-hcp-secret\n",
    "  namespace: researchgroup1\n",
    "type: Opaque\n",
    "data:\n",
    "# To create a Ticket, login onto the MapR cluster and execute following:\n",
    "# 1. maprlogin password -user mapr\n",
    "# 2. echo -n $(cat /tmp/maprticket_####) | base64 -w 0\n",
    "# 3. Copy the base64 encoded ticket into the CONTAINER_TICKET line, eg:\n",
    "  CONTAINER_TICKET: aGNwLm1hcHIuY2x1c3RlciBLTzBnRTRRKzQ3WnFhdy9URDQ2WGlqSzhPMHdGOW4waEY1NEh3WEVQOEgyZ3RBZHhYMHluVXFSYnMrSGVDOTBpRzk0MW9hYkw3dG5jRDh2ekJyQnY1YmJRb1Bwbk9PdnNUMC95bWw5TGhGOER6SUNkL05Kakl3LzRKRzM2MlN0Q2I0NVdLL0FTK1NIdHdFenVRU011SkRDRTY1L1pDTVNDMWN6UWFBSXNFRWVqaVJvR2pxK2hkQVFQN2duSmRJVGM3TEY4Q1BCWW8xdHU1NHltVDJqbGEySDA4YldENDVKVUdHNWh1Q0U1NGhxc1dPRzB2UUliNEJpRUtiakNBd3B0c3g4V1dud1h3bHIxcWNWdE5uUmpmMy9icE1PamhFeWgzWEhs\n",
    "---\n",
    "EOF"
   ]
  },
  {
   "cell_type": "code",
   "execution_count": null,
   "metadata": {},
   "outputs": [],
   "source": [
    "cat << 'EOF' | kubectl create -f -\n",
    "# MapR Apps ServiceAccount\n",
    "---\n",
    "apiVersion: v1\n",
    "kind: ServiceAccount\n",
    "metadata:\n",
    "  name: mapr-apps-sa\n",
    "  namespace: researchgroup1\n",
    "\n",
    "# Ticket to authenticate with HPE Container Platform internal Data Fabric\n",
    "---\n",
    "apiVersion: v1\n",
    "kind: Secret\n",
    "metadata:\n",
    "  name: mapr-ticket-hcp-secret\n",
    "  namespace: researchgroup1\n",
    "type: Opaque\n",
    "data:\n",
    "# To create a Ticket, login onto the MapR cluster and execute following:\n",
    "# 1. maprlogin password -user mapr\n",
    "# 2. echo -n $(cat /tmp/maprticket_####) | base64 -w 0\n",
    "# 3. Copy the base64 encoded ticket into the CONTAINER_TICKET line, eg:\n",
    "  CONTAINER_TICKET: aGNwLm1hcHIuY2x1c3RlciBLTzBnRTRRKzQ3WnFhdy9URDQ2WGlqSzhPMHdGOW4waEY1NEh3WEVQOEgyZ3RBZHhYMHluVXFSYnMrSGVDOTBpRzk0MW9hYkw3dG5jRDh2ekJyQnY1YmJRb1Bwbk9PdnNUMC95bWw5TGhGOER6SUNkL05Kakl3LzRKRzM2MlN0Q2I0NVdLL0FTK1NIdHdFenVRU011SkRDRTY1L1pDTVNDMWN6UWFBSXNFRWVqaVJvR2pxK2hkQVFQN2duSmRJVGM3TEY4Q1BCWW8xdHU1NHltVDJqbGEySDA4YldENDVKVUdHNWh1Q0U1NGhxc1dPRzB2UUliNEJpRUtiakNBd3B0c3g4V1dud1h3bHIxcWNWdE5uUmpmMy9icE1PamhFeWgzWEhs\n",
    "---\n",
    "EOF"
   ]
  },
  {
   "cell_type": "code",
   "execution_count": 25,
   "metadata": {},
   "outputs": [
    {
     "name": "stdout",
     "output_type": "stream",
     "text": [
      "persistentvolumeclaim/pvc-mapr-apps created\n"
     ]
    }
   ],
   "source": [
    "cat << 'EOF' | kubectl create -f -\n",
    "\n",
    "# Create PVC for internal Data Fabric\n",
    "---\n",
    "apiVersion: v1\n",
    "kind: PersistentVolumeClaim\n",
    "metadata:\n",
    "  name: pvc-mapr-apps\n",
    "  namespace: researchgroup1\n",
    "spec:\n",
    "  accessModes:\n",
    "    - ReadWriteMany\n",
    "  resources:\n",
    "    requests:\n",
    "      storage: 5G\n",
    "    \n",
    "--- \n",
    "EOF"
   ]
  },
  {
   "cell_type": "code",
   "execution_count": null,
   "metadata": {},
   "outputs": [],
   "source": [
    "## Create Service Account"
   ]
  },
  {
   "cell_type": "code",
   "execution_count": null,
   "metadata": {},
   "outputs": [],
   "source": [
    "cat << 'EOF' | kubectl create -f -\n",
    "# MapR Apps ServiceAccount\n",
    "---\n",
    "apiVersion: v1\n",
    "kind: ServiceAccount\n",
    "metadata:\n",
    "  name: mapr-apps-sa\n",
    "  namespace: researchgroup1\n",
    "\n",
    "# Ticket to authenticate with HPE Container Platform internal Data Fabric\n",
    "---\n",
    "apiVersion: v1\n",
    "kind: Secret\n",
    "metadata:\n",
    "  name: mapr-ticket-hcp-secret\n",
    "  namespace: researchgroup1\n",
    "type: Opaque\n",
    "data:\n",
    "# To create a Ticket, login onto the MapR cluster and execute following:\n",
    "# 1. maprlogin password -user mapr\n",
    "# 2. echo -n $(cat /tmp/maprticket_####) | base64 -w 0\n",
    "# 3. Copy the base64 encoded ticket into the CONTAINER_TICKET line, eg:\n",
    "  CONTAINER_TICKET: aGNwLm1hcHIuY2x1c3RlciBLTzBnRTRRKzQ3WnFhdy9URDQ2WGlqSzhPMHdGOW4waEY1NEh3WEVQOEgyZ3RBZHhYMHluVXFSYnMrSGVDOTBpRzk0MW9hYkw3dG5jRDh2ekJyQnY1YmJRb1Bwbk9PdnNUMC95bWw5TGhGOER6SUNkL05Kakl3LzRKRzM2MlN0Q2I0NVdLL0FTK1NIdHdFenVRU011SkRDRTY1L1pDTVNDMWN6UWFBSXNFRWVqaVJvR2pxK2hkQVFQN2duSmRJVGM3TEY4Q1BCWW8xdHU1NHltVDJqbGEySDA4YldENDVKVUdHNWh1Q0U1NGhxc1dPRzB2UUliNEJpRUtiakNBd3B0c3g4V1dud1h3bHIxcWNWdE5uUmpmMy9icE1PamhFeWgzWEhs\n",
    "---\n",
    "EOF"
   ]
  },
  {
   "cell_type": "markdown",
   "metadata": {},
   "source": [
    "## create secret with mapr ticket content"
   ]
  },
  {
   "cell_type": "code",
   "execution_count": 24,
   "metadata": {
    "ExecuteTime": {
     "end_time": "2020-04-08T10:59:17.438485Z",
     "start_time": "2020-04-08T10:59:16.653712Z"
    },
    "scrolled": true
   },
   "outputs": [
    {
     "name": "stdout",
     "output_type": "stream",
     "text": [
      "secret/maprticket created\n"
     ]
    }
   ],
   "source": [
    "cat << 'EOF' | kubectl create -f -\n",
    "apiVersion: v1\n",
    "kind: Secret\n",
    "metadata:\n",
    "  name: maprticket\n",
    "  namespace: researchgroup1\n",
    "type: Opaque\n",
    "data:\n",
    "  longlived_ticket: aGNwLm1hcHIuY2x1c3RlciBLTzBnRTRRKzQ3WnFhdy9URDQ2WGlqSzhPMHdGOW4waEY1NEh3WEVQOEgyZ3RBZHhYMHluVXFSYnMrSGVDOTBpRzk0MW9hYkw3dG5jRDh2ekJyQnY1YmJRb1Bwbk9PdnNUMC95bWw5TGhGOER6SUNkL05Kakl3LzRKRzM2MlN0Q2I0NVdLL0FTK1NIdHdFenVRU011SkRDRTY1L1pDTVNDMWN6UWFBSXNFRWVqaVJvR2pxK2hkQVFQN2duSmRJVGM3TEY4Q1BCWW8xdHU1NHltVDJqbGEySDA4YldENDVKVUdHNWh1Q0U1NGhxc1dPRzB2UUliNEJpRUtiakNBd3B0c3g4V1dud1h3bHIxcWNWdE5uUmpmMy9icE1PamhFeWgzWEhs\n",
    "EOF"
   ]
  },
  {
   "cell_type": "code",
   "execution_count": 26,
   "metadata": {
    "ExecuteTime": {
     "end_time": "2020-04-08T08:57:46.744772Z",
     "start_time": "2020-04-08T08:57:46.560595Z"
    },
    "scrolled": true
   },
   "outputs": [
    {
     "name": "stdout",
     "output_type": "stream",
     "text": [
      "NAME                                TYPE                                  DATA   AGE\n",
      "default-token-4kpq8                 kubernetes.io/service-account-token   3      22d\n",
      "dtap                                Opaque                                1      22d\n",
      "hpecp-tenant-14-jrnlb-token-5xnnm   kubernetes.io/service-account-token   3      22d\n",
      "mapr-apps-sa-token-d29wk            kubernetes.io/service-account-token   3      2m32s\n",
      "mapr-ticket-hcp-secret              Opaque                                1      2m32s\n",
      "maprticket                          Opaque                                1      2m8s\n"
     ]
    }
   ],
   "source": [
    "kubectl get secret -n researchgroup1"
   ]
  },
  {
   "cell_type": "markdown",
   "metadata": {},
   "source": [
    "## create deployment (Streamset)"
   ]
  },
  {
   "cell_type": "code",
   "execution_count": 27,
   "metadata": {},
   "outputs": [
    {
     "name": "stdout",
     "output_type": "stream",
     "text": [
      "deployment.apps/streamset created\n"
     ]
    }
   ],
   "source": [
    "cat << 'EOF' | kubectl create -f -\n",
    "apiVersion: apps/v1\n",
    "kind: Deployment\n",
    "metadata:\n",
    "  name: streamset\n",
    "  namespace: researchgroup1\n",
    "spec:\n",
    "  selector:\n",
    "    matchLabels:\n",
    "      app: streamset\n",
    "      tier: frontend\n",
    "  template:\n",
    "    metadata:\n",
    "      labels:\n",
    "        app: streamset\n",
    "        tier: frontend\n",
    "    spec:\n",
    "     \n",
    "      containers:\n",
    "        - name: streamset\n",
    "          image: mkieboom/mapr-pacc-streamsets-docker:streamsets381_mapr610_mep600\n",
    "          ports:\n",
    "            - containerPort: 18630\n",
    "              name: streamset-port\n",
    "          securityContext:\n",
    "  #          privileged: true\n",
    "  #           privileged: true\n",
    "  #          capabilities:\n",
    "  #            add: [\"SYS_ADMIN\" , \"SYS_RESOURCE\"]    \n",
    "              \n",
    "#          command: ['sleep']\n",
    "#          args: [\"99999\"]\n",
    "          \n",
    "          command: [\"/bin/sh\",\"-c\"]\n",
    "          args: [\"sleep 2 && /opt/mapr/installer/docker/mapr-setup.sh container && sudo -E -u $SDC_USER $SDC_DIST/bin/streamsets dc\"]\n",
    "              \n",
    "          volumeMounts:\n",
    "#          - name: fuse\n",
    "#            mountPath: \"/dev/fuse\"\n",
    "          \n",
    "          - name: maprticket-volume\n",
    "            mountPath: \"/tmp/ticket/\"\n",
    "            \n",
    "          - name: streamset-data\n",
    "            mountPath: \"/data\"\n",
    "            \n",
    "          - mountPath: /mapr/hcp.mapr.cluster\n",
    "            name: maprvolume\n",
    "            \n",
    "          env:  \n",
    "           - name: MAPR_CLUSTER\n",
    "             value: \"hcp.mapr.cluster\"\t##### <-----Enter you MapR Cluster Name\n",
    "           - name: MAPR_CLDB_HOSTS\n",
    "             value: \"10.1.0.195\"\t\t##### <-----Enter you MapR Cluster CLDB Nodes.  ## execute the following command on controller : bdmapr maprcli node listcldbs \n",
    "           - name: MAPR_CONTAINER_USER\n",
    "             value: \"mapr\"\t\t\t\t##### <-----Enter you MapR Cluster User \n",
    "           - name: MAPR_CONTAINER_GROUP\n",
    "             value: \"mapr\"\t\t\t\t##### <-----Enter you MapR Cluster Users Group \n",
    "           - name: MAPR_CONTAINER_UID\n",
    "             value: \"5000\"\t\t\t\t##### <-----Enter you MapR User UID \n",
    "           - name: MAPR_CONTAINER_GID\n",
    "             value: \"5000\"\t\t\t\t##### <-----Enter you MapR User GID \n",
    " #          - name: MAPR_MOUNT_PATH\n",
    " #            value: \"/mapr\"\t\t\t\t##### <-----Global Namespace Path\n",
    "           - name: SDC_JAVA_OPTS\n",
    "             value: \"-Dmaprlogin.password.enabled=true\"\n",
    "           - name: MAPR_TICKETFILE_LOCATION\n",
    "             value: \"/tmp/ticket/longlived_ticket\"\n",
    " \n",
    "#      securityContext:\n",
    "#        runAsUser: 0\n",
    " \n",
    "      volumes:\n",
    "#      - name: fuse\n",
    "#        hostPath:\n",
    "#          path: /dev/fuse\n",
    "          \n",
    "      - name: maprticket-volume\n",
    "        secret:\n",
    "          secretName: maprticket\n",
    "          \n",
    "      - name: streamset-data\n",
    "        hostPath:\n",
    "          path: /tmp\n",
    "          type: DirectoryOrCreate\n",
    "          \n",
    "      - name: maprvolume\n",
    "        persistentVolumeClaim:\n",
    "          claimName: pvc-mapr-apps\n",
    "EOF"
   ]
  },
  {
   "cell_type": "markdown",
   "metadata": {},
   "source": [
    "## create Service (expose)"
   ]
  },
  {
   "cell_type": "code",
   "execution_count": 28,
   "metadata": {
    "ExecuteTime": {
     "end_time": "2020-04-08T10:20:11.800995Z",
     "start_time": "2020-04-08T10:20:10.636603Z"
    }
   },
   "outputs": [
    {
     "name": "stdout",
     "output_type": "stream",
     "text": [
      "service/streamset created\n"
     ]
    }
   ],
   "source": [
    "cat << 'EOF' | kubectl create -f - \n",
    "apiVersion: v1\n",
    "kind: Service\n",
    "metadata:\n",
    "  name: streamset\n",
    "  namespace: researchgroup1\n",
    " \n",
    "spec:\n",
    "  selector: \n",
    "    app: streamset\n",
    "  ports:\n",
    "  - name: streamset\n",
    "    protocol: TCP\n",
    "    port: 18630\n",
    "    targetPort: 18630\n",
    "  type: NodePort\n",
    "EOF"
   ]
  },
  {
   "cell_type": "code",
   "execution_count": 29,
   "metadata": {
    "ExecuteTime": {
     "end_time": "2020-04-08T10:20:14.013670Z",
     "start_time": "2020-04-08T10:20:13.805866Z"
    }
   },
   "outputs": [
    {
     "name": "stdout",
     "output_type": "stream",
     "text": [
      "Name:                     streamset\n",
      "Namespace:                researchgroup1\n",
      "Labels:                   hpecp.hpe.com/hpecp-internal-gateway=true\n",
      "Annotations:              hpecp-internal-gateway/18630: ec2-15-236-36-5.eu-west-3.compute.amazonaws.com:10028\n",
      "Selector:                 app=streamset\n",
      "Type:                     NodePort\n",
      "IP:                       10.96.19.152\n",
      "Port:                     streamset  18630/TCP\n",
      "TargetPort:               18630/TCP\n",
      "NodePort:                 streamset  30415/TCP\n",
      "Endpoints:                10.192.2.94:18630\n",
      "Session Affinity:         None\n",
      "External Traffic Policy:  Cluster\n",
      "Events:\n",
      "  Type    Reason  Age   From         Message\n",
      "  ----    ------  ----  ----         -------\n",
      "  Normal  HpeCp   7s    hpecp-agent  Created HPECP K8S service\n"
     ]
    }
   ],
   "source": [
    "kubectl describe svc streamset -n researchgroup1"
   ]
  },
  {
   "cell_type": "raw",
   "metadata": {
    "ExecuteTime": {
     "end_time": "2020-04-08T10:20:14.013670Z",
     "start_time": "2020-04-08T10:20:13.805866Z"
    }
   },
   "source": [
    "kubectl label svc streamset hpecp.hpe.com/hpecp-internal-gateway=true"
   ]
  },
  {
   "cell_type": "code",
   "execution_count": null,
   "metadata": {},
   "outputs": [],
   "source": []
  }
 ],
 "metadata": {
  "hide_input": false,
  "kernelspec": {
   "display_name": "Bash",
   "language": "bash",
   "name": "bash"
  },
  "language_info": {
   "codemirror_mode": "shell",
   "file_extension": ".sh",
   "mimetype": "text/x-sh",
   "name": "bash"
  },
  "toc": {
   "base_numbering": 1,
   "nav_menu": {},
   "number_sections": true,
   "sideBar": true,
   "skip_h1_title": false,
   "title_cell": "Table of Contents",
   "title_sidebar": "Contents",
   "toc_cell": false,
   "toc_position": {},
   "toc_section_display": true,
   "toc_window_display": true
  },
  "varInspector": {
   "cols": {
    "lenName": 16,
    "lenType": 16,
    "lenVar": 40
   },
   "kernels_config": {
    "python": {
     "delete_cmd_postfix": "",
     "delete_cmd_prefix": "del ",
     "library": "var_list.py",
     "varRefreshCmd": "print(var_dic_list())"
    },
    "r": {
     "delete_cmd_postfix": ") ",
     "delete_cmd_prefix": "rm(",
     "library": "var_list.r",
     "varRefreshCmd": "cat(var_dic_list()) "
    }
   },
   "types_to_exclude": [
    "module",
    "function",
    "builtin_function_or_method",
    "instance",
    "_Feature"
   ],
   "window_display": false
  }
 },
 "nbformat": 4,
 "nbformat_minor": 4
}
