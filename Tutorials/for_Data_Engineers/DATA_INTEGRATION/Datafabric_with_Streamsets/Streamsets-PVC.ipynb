{
 "cells": [
  {
   "cell_type": "markdown",
   "metadata": {},
   "source": [
    "# k8s Streamset Deployment on HPE Container Platform\n",
    "![image](images/maprstreamsetlogo.png)\n",
    "\n",
    "StreamSets provides Continuous Ingest technology for the next generation of big data applications. Its enterprise-grade infrastructure accelerates time-to-analysis by bringing unprecedented transparency and event processing to data in motion.\n",
    "For more information, visit http://www.streamsets.com/\n",
    "\n"
   ]
  },
  {
   "cell_type": "markdown",
   "metadata": {},
   "source": [
    "# k8s Streamset Deployment on HPE Container Platform\n",
    "\n",
    "The following Tutorial describes how to leverage streamset on the HPE Container Platform for DataIntegration between external datasources and the integrated HPE Data Fabric.   \n",
    "\n",
    "The Data Fabric provides multiple Dataservices \n",
    "\n",
    "* File Data Service\n",
    "  store or read files of different Data Formats using the MapR-FS Connector\n",
    "\n",
    "* Event Store Service \n",
    "  Integrate Data from Streaming Sources as well as CDC using MapR-Streams Connector \n",
    "  \n",
    "* Document Database Services\n",
    "  Create / Read / Update / Delete Records into the integrated Document Database using MapR-DB JSON for Operational Analytics\n",
    "\n",
    "* Wide Column Store Database\n",
    "  Create / Read / Update / Delete Records into the integrated Widecolum Store using MapR-DB Binary (Hbase). \n",
    "\n",
    "![image](images/streamsetspipeline.png)\n",
    "\n",
    "\n",
    "Get a list of supported MapR (HPE Data  "
   ]
  },
  {
   "cell_type": "markdown",
   "metadata": {},
   "source": [
    "## Prepare your Environment"
   ]
  },
  {
   "cell_type": "markdown",
   "metadata": {},
   "source": [
    "### List the available Container Platform Clusters in your Environment"
   ]
  },
  {
   "cell_type": "code",
   "execution_count": 1,
   "metadata": {},
   "outputs": [
    {
     "name": "stdout",
     "output_type": "stream",
     "text": [
      "tput: No value for $TERM and no -T specified\n",
      "tput: No value for $TERM and no -T specified\n",
      "tput: No value for $TERM and no -T specified\n",
      "development\n"
     ]
    }
   ],
   "source": [
    "kubectx"
   ]
  },
  {
   "cell_type": "markdown",
   "metadata": {},
   "source": [
    "### Set the Cluster that you want to use for Application Deployment"
   ]
  },
  {
   "cell_type": "code",
   "execution_count": null,
   "metadata": {},
   "outputs": [],
   "source": [
    "kubectx development"
   ]
  },
  {
   "cell_type": "markdown",
   "metadata": {},
   "source": [
    "### Set the tenant where you want to deploy the K8S Application"
   ]
  },
  {
   "cell_type": "code",
   "execution_count": 5,
   "metadata": {},
   "outputs": [
    {
     "name": "stdout",
     "output_type": "stream",
     "text": [
      "Context \"development\" modified.\n",
      "Active namespace is \"researchgroup1\".\n"
     ]
    }
   ],
   "source": [
    "kubens researchgroup1"
   ]
  },
  {
   "cell_type": "markdown",
   "metadata": {},
   "source": [
    "### Setup a Service Account for the K8S Application\n",
    "It is very important that create a secret which includes the maprticket to authenticate with the internal Data Fabric.\n",
    "\n",
    "Note: The following procedure describes how to get the admin ticket for the internal Data Fabric.  This procedure should only be used for Demos and should not be used for any Production Installation\n",
    "\n",
    "You can get the Data Fabric admin ticket from the HPE Controller Platform Control Node ## echo -n $(cat /opt/bluedata/mapr/conf/mapruserticket ) | base64 -w 0\n",
    "\n",
    "Please copy the bas64 encoded string into the CONTAINER_TICKET VARIABLE below"
   ]
  },
  {
   "cell_type": "code",
   "execution_count": 14,
   "metadata": {},
   "outputs": [
    {
     "name": "stdout",
     "output_type": "stream",
     "text": [
      "serviceaccount/streamset-app-sa created\n",
      "secret/maprticket created\n"
     ]
    }
   ],
   "source": [
    "cat << 'EOF' | kubectl create -f -\n",
    "# MapR Apps ServiceAccount\n",
    "---\n",
    "apiVersion: v1\n",
    "kind: ServiceAccount\n",
    "metadata:\n",
    "  name: streamset-app-sa\n",
    "\n",
    "# Ticket to authenticate with HPE Container Platform internal Data Fabric\n",
    "---\n",
    "apiVersion: v1\n",
    "kind: Secret\n",
    "metadata:\n",
    "  name: maprticket\n",
    "type: Opaque\n",
    "data:\n",
    "#Note for Testing only you can use the following Command on the Controller Node ## echo -n $(cat /opt/bluedata/mapr/conf/mapruserticket ) | base64 -w 0\n",
    "\n",
    "  CONTAINER_TICKET: aGNwLm1hcHIuY2x1c3RlciBLTzBnRTRRKzQ3WnFhdy9URDQ2WGlqSzhPMHdGOW4waEY1NEh3WEVQOEgyZ3RBZHhYMHluVXFSYnMrSGVDOTBpRzk0MW9hYkw3dG5jRDh2ekJyQnY1YmJRb1Bwbk9PdnNUMC95bWw5TGhGOER6SUNkL05Kakl3LzRKRzM2MlN0Q2I0NVdLL0FTK1NIdHdFenVRU011SkRDRTY1L1pDTVNDMWN6UWFBSXNFRWVqaVJvR2pxK2hkQVFQN2duSmRJVGM3TEY4Q1BCWW8xdHU1NHltVDJqbGEySDA4YldENDVKVUdHNWh1Q0U1NGhxc1dPRzB2UUliNEJpRUtiakNBd3B0c3g4V1dud1h3bHIxcWNWdE5uUmpmMy9icE1PamhFeWgzWEhs\n",
    "---\n",
    "EOF"
   ]
  },
  {
   "cell_type": "markdown",
   "metadata": {},
   "source": [
    "### Setup a Persistent Volume claim for the streamset data collector application "
   ]
  },
  {
   "cell_type": "code",
   "execution_count": 24,
   "metadata": {},
   "outputs": [
    {
     "name": "stdout",
     "output_type": "stream",
     "text": [
      "persistentvolumeclaim/pvc-streamset-app created\n"
     ]
    }
   ],
   "source": [
    "cat << 'EOF' | kubectl create -f -\n",
    "\n",
    "# Create PVC for internal Data Fabric\n",
    "---\n",
    "apiVersion: v1\n",
    "kind: PersistentVolumeClaim\n",
    "metadata:\n",
    "  name: pvc-streamset-app\n",
    "spec:\n",
    "  accessModes:\n",
    "    - ReadWriteMany\n",
    "  resources:\n",
    "    requests:\n",
    "      storage: 5G\n",
    "    \n",
    "--- \n",
    "EOF"
   ]
  },
  {
   "cell_type": "markdown",
   "metadata": {},
   "source": [
    "## Create the  deployment yaml for the Streamset Data Collector Container. \n",
    "Please modify the Environment Variables to match your HPE Container Platform Data Fabric Settings"
   ]
  },
  {
   "cell_type": "code",
   "execution_count": 37,
   "metadata": {},
   "outputs": [
    {
     "name": "stdout",
     "output_type": "stream",
     "text": [
      "deployment.apps/streamset-app created\n",
      "service/streamset-app created\n"
     ]
    }
   ],
   "source": [
    "cat << 'EOF' | kubectl create -f -\n",
    "apiVersion: apps/v1\n",
    "kind: Deployment\n",
    "metadata:\n",
    "  name: streamset-app\n",
    "spec:\n",
    "  selector:\n",
    "    matchLabels:\n",
    "      app: streamset-app\n",
    "      tier: frontend\n",
    "  template:\n",
    "    metadata:\n",
    "      labels:\n",
    "        app: streamset-app\n",
    "        tier: frontend\n",
    "    spec:\n",
    "     \n",
    "      containers:\n",
    "        - name: streamset-app\n",
    "          image: mkieboom/mapr-pacc-streamsets-docker:streamsets381_mapr610_mep600\n",
    "          ports:\n",
    "            - containerPort: 18630\n",
    "              name: streamset-port\n",
    "          securityContext:\n",
    "  \n",
    "          command: [\"/bin/sh\",\"-c\"]\n",
    "          args: [\"sleep 2 && /opt/mapr/installer/docker/mapr-setup.sh container && sudo -E -u $SDC_USER $SDC_DIST/bin/streamsets dc\"]\n",
    "              \n",
    "          volumeMounts:\n",
    "\n",
    "          - name: maprticket-volume\n",
    "            mountPath: \"/tmp/ticket/\"\n",
    "            \n",
    "          - name: streamset-data\n",
    "            mountPath: \"/data\"\n",
    "            \n",
    "          - mountPath: /mapr/hcp.mapr.cluster\n",
    "            name: maprvolume\n",
    "            \n",
    "          env:  \n",
    "           - name: MAPR_CLUSTER\n",
    "             value: \"hcp.mapr.cluster\"\t##### <-----Enter you MapR Cluster Name\n",
    "           - name: MAPR_CLDB_HOSTS\n",
    "             value: \"10.1.0.195\"\t\t##### <-----Enter you MapR Cluster CLDB Nodes.  ## execute the following command on controller : bdmapr maprcli node listcldbs \n",
    "           - name: MAPR_CONTAINER_USER\n",
    "             value: \"mapr\"\t\t\t\t##### <-----Enter you MapR Cluster User \n",
    "           - name: MAPR_CONTAINER_GROUP\n",
    "             value: \"mapr\"\t\t\t\t##### <-----Enter you MapR Cluster Users Group \n",
    "           - name: MAPR_CONTAINER_UID\n",
    "             value: \"5000\"\t\t\t\t##### <-----Enter you MapR User UID \n",
    "           - name: MAPR_CONTAINER_GID\n",
    "             value: \"5000\"\t\t\t\t##### <-----Enter you MapR User GID \n",
    "           - name: SDC_JAVA_OPTS\n",
    "             value: \"-Dmaprlogin.password.enabled=true\"\n",
    "           - name: MAPR_TICKETFILE_LOCATION\n",
    "             value: \"/tmp/ticket/CONTAINER_TICKET\"\n",
    "\n",
    "      volumes:\n",
    "          \n",
    "      - name: maprticket-volume\n",
    "        secret:\n",
    "          secretName: maprticket\n",
    "          \n",
    "      - name: streamset-data\n",
    "        hostPath:\n",
    "          path: /tmp\n",
    "          type: DirectoryOrCreate\n",
    "          \n",
    "      - name: maprvolume\n",
    "        persistentVolumeClaim:\n",
    "          claimName: pvc-streamset-app\n",
    "          \n",
    "---\n",
    "\n",
    "apiVersion: v1\n",
    "kind: Service\n",
    "metadata:\n",
    "  name: streamset-app \n",
    "spec:\n",
    "  selector: \n",
    "    app: streamset-app\n",
    "  ports:\n",
    "  - name: http-streamset\n",
    "    protocol: TCP\n",
    "    port: 18630\n",
    "    targetPort: 18630\n",
    "  type: NodePort\n",
    "          \n",
    "          \n",
    "EOF"
   ]
  },
  {
   "cell_type": "markdown",
   "metadata": {},
   "source": [
    "### Check if the Streamset Data Collector POD is running"
   ]
  },
  {
   "cell_type": "code",
   "execution_count": 48,
   "metadata": {},
   "outputs": [
    {
     "name": "stdout",
     "output_type": "stream",
     "text": [
      "NAME                             READY   STATUS    RESTARTS   AGE\n",
      "streamset-app-6b65bc99c6-k2sh4   1/1     Running   0          3m47s\n"
     ]
    }
   ],
   "source": [
    "kubectl get pods -l app=streamset-app"
   ]
  },
  {
   "cell_type": "markdown",
   "metadata": {},
   "source": [
    "### Check the Service port the Streamset Data Collector pod is mapped to ( Annotation Link for the HPE Gateway)"
   ]
  },
  {
   "cell_type": "code",
   "execution_count": 50,
   "metadata": {
    "ExecuteTime": {
     "end_time": "2020-04-08T10:20:14.013670Z",
     "start_time": "2020-04-08T10:20:13.805866Z"
    }
   },
   "outputs": [
    {
     "name": "stdout",
     "output_type": "stream",
     "text": [
      "Name:                     streamset-app\n",
      "Namespace:                researchgroup1\n",
      "Labels:                   hpecp.hpe.com/hpecp-internal-gateway=true\n",
      "Annotations:              hpecp-internal-gateway/18630: ec2-15-236-36-5.eu-west-3.compute.amazonaws.com:10022\n",
      "Selector:                 app=streamset-app\n",
      "Type:                     NodePort\n",
      "IP:                       10.96.62.3\n",
      "Port:                     http-streamset  18630/TCP\n",
      "TargetPort:               18630/TCP\n",
      "NodePort:                 http-streamset  32165/TCP\n",
      "Endpoints:                10.192.2.112:18630\n",
      "Session Affinity:         None\n",
      "External Traffic Policy:  Cluster\n",
      "Events:\n",
      "  Type    Reason  Age    From         Message\n",
      "  ----    ------  ----   ----         -------\n",
      "  Normal  HpeCp   4m58s  hpecp-agent  Created HPECP K8S service\n"
     ]
    }
   ],
   "source": [
    "kubectl describe svc streamset-app -n researchgroup1"
   ]
  },
  {
   "cell_type": "markdown",
   "metadata": {},
   "source": [
    "# Access the Streamsets UI from Container Platform \n",
    "![image](images/ContainerPlatform_Service.png)\n",
    "# Login Screen\n",
    "### Default User = admin\n",
    "### Default Password = admin\n",
    "![image](images/streamset-adminui.png)"
   ]
  },
  {
   "cell_type": "code",
   "execution_count": null,
   "metadata": {},
   "outputs": [],
   "source": []
  }
 ],
 "metadata": {
  "hide_input": false,
  "kernelspec": {
   "display_name": "Bash",
   "language": "bash",
   "name": "bash"
  },
  "language_info": {
   "codemirror_mode": "shell",
   "file_extension": ".sh",
   "mimetype": "text/x-sh",
   "name": "bash"
  },
  "toc": {
   "base_numbering": 1,
   "nav_menu": {},
   "number_sections": true,
   "sideBar": true,
   "skip_h1_title": false,
   "title_cell": "Table of Contents",
   "title_sidebar": "Contents",
   "toc_cell": false,
   "toc_position": {},
   "toc_section_display": true,
   "toc_window_display": true
  },
  "varInspector": {
   "cols": {
    "lenName": 16,
    "lenType": 16,
    "lenVar": 40
   },
   "kernels_config": {
    "python": {
     "delete_cmd_postfix": "",
     "delete_cmd_prefix": "del ",
     "library": "var_list.py",
     "varRefreshCmd": "print(var_dic_list())"
    },
    "r": {
     "delete_cmd_postfix": ") ",
     "delete_cmd_prefix": "rm(",
     "library": "var_list.r",
     "varRefreshCmd": "cat(var_dic_list()) "
    }
   },
   "types_to_exclude": [
    "module",
    "function",
    "builtin_function_or_method",
    "instance",
    "_Feature"
   ],
   "window_display": false
  }
 },
 "nbformat": 4,
 "nbformat_minor": 4
}
