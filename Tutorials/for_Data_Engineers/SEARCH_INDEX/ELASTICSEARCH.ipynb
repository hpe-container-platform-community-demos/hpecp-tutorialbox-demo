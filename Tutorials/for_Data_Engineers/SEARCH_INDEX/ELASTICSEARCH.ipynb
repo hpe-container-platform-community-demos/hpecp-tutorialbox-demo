{
 "cells": [
  {
   "cell_type": "markdown",
   "metadata": {},
   "source": [
    "## Elastic Search HELM Installation How  To \n",
    "\n",
    "![tiny arrow](https://www.michael-wutzke.de/wp-content/uploads/2019/02/funktionsweise-elastic-stack-beats-logstash-elasticsearch-kibana.png)"
   ]
  },
  {
   "cell_type": "code",
   "execution_count": 2,
   "metadata": {},
   "outputs": [
    {
     "name": "stdout",
     "output_type": "stream",
     "text": [
      "tput: No value for $TERM and no -T specified\n",
      "tput: No value for $TERM and no -T specified\n",
      "tput: No value for $TERM and no -T specified\n",
      "development\n"
     ]
    }
   ],
   "source": [
    "kubectx "
   ]
  },
  {
   "cell_type": "code",
   "execution_count": 3,
   "metadata": {},
   "outputs": [
    {
     "name": "stdout",
     "output_type": "stream",
     "text": [
      "Switched to context \"development\".\n"
     ]
    }
   ],
   "source": [
    "kubectx development"
   ]
  },
  {
   "cell_type": "code",
   "execution_count": 4,
   "metadata": {},
   "outputs": [
    {
     "name": "stdout",
     "output_type": "stream",
     "text": [
      "Context \"development\" modified.\n",
      "Active namespace is \"researchgroup1\".\n"
     ]
    }
   ],
   "source": [
    "kubens researchgroup1"
   ]
  },
  {
   "cell_type": "markdown",
   "metadata": {},
   "source": [
    "## ADD THE HELM REPOSITORIES FOR ELATIC "
   ]
  },
  {
   "cell_type": "code",
   "execution_count": 5,
   "metadata": {},
   "outputs": [
    {
     "name": "stdout",
     "output_type": "stream",
     "text": [
      "\"elastic\" has been added to your repositories\n"
     ]
    }
   ],
   "source": [
    "helm repo add elastic https://helm.elastic.co"
   ]
  },
  {
   "cell_type": "markdown",
   "metadata": {},
   "source": [
    "## INSTALL ELASTIC SEARCH CLUSTER\n",
    "\n",
    "Elasticsearch is a distributed, RESTful search and analytics engine capable of addressing a growing number of use cases. As the heart of the Elastic Stack, it centrally stores your data for lightning fast search, fine‑tuned relevancy, and powerful analytics that scale with ease.\n",
    "\n",
    "![tiny arrow](https://static-www.elastic.co/v3/assets/bltefdd0b53724fa2ce/bltbc15ae12db3c3f87/5ea2b0f7e565460dbf2ce1eb/illustration-elasticheart-engine-blue-555x500px.png)\n"
   ]
  },
  {
   "cell_type": "code",
   "execution_count": 6,
   "metadata": {},
   "outputs": [
    {
     "name": "stdout",
     "output_type": "stream",
     "text": [
      "NAME: elasticsearch\n",
      "LAST DEPLOYED: Mon Jun 29 10:58:46 2020\n",
      "NAMESPACE: researchgroup1\n",
      "STATUS: deployed\n",
      "REVISION: 1\n",
      "NOTES:\n",
      "1. Watch all cluster members come up.\n",
      "  $ kubectl get pods --namespace=researchgroup1 -l app=elasticsearch-master -w\n",
      "2. Test cluster health using Helm test.\n",
      "  $ helm test elasticsearch --cleanup\n"
     ]
    }
   ],
   "source": [
    "helm install elasticsearch elastic/elasticsearch "
   ]
  },
  {
   "cell_type": "code",
   "execution_count": 12,
   "metadata": {},
   "outputs": [
    {
     "name": "stdout",
     "output_type": "stream",
     "text": [
      "NAME                     READY   STATUS    RESTARTS   AGE\n",
      "elasticsearch-master-0   1/1     Running   0          101s\n",
      "elasticsearch-master-1   1/1     Running   0          101s\n",
      "elasticsearch-master-2   1/1     Running   0          101s\n"
     ]
    }
   ],
   "source": [
    "kubectl get pods  -l app=elasticsearch-master "
   ]
  },
  {
   "cell_type": "markdown",
   "metadata": {},
   "source": [
    "## CREATE A SERVICE FOR ELASTIC SEARCH "
   ]
  },
  {
   "cell_type": "code",
   "execution_count": 13,
   "metadata": {},
   "outputs": [
    {
     "name": "stdout",
     "output_type": "stream",
     "text": [
      "service/elasticsearch created\n"
     ]
    }
   ],
   "source": [
    "cat << 'EOF' | kubectl apply -f - \n",
    "apiVersion: v1\n",
    "kind: Service\n",
    "metadata:\n",
    "  name: elasticsearch\n",
    "  labels:\n",
    "    hpecp.hpe.com/hpecp-internal-gateway: \"true\"\n",
    "spec:\n",
    "  selector: \n",
    "    app: elasticsearch-master\n",
    "  ports:\n",
    "  - name: elastic\n",
    "    protocol: TCP\n",
    "    port: 9200\n",
    "    targetPort: 9200 \n",
    "  type: NodePort\n",
    "EOF"
   ]
  },
  {
   "cell_type": "markdown",
   "metadata": {},
   "source": [
    "## INSTALL KIBANA "
   ]
  },
  {
   "cell_type": "code",
   "execution_count": 14,
   "metadata": {},
   "outputs": [
    {
     "name": "stdout",
     "output_type": "stream",
     "text": [
      "NAME: kibana\n",
      "LAST DEPLOYED: Mon Jun 29 11:04:44 2020\n",
      "NAMESPACE: researchgroup1\n",
      "STATUS: deployed\n",
      "REVISION: 1\n",
      "TEST SUITE: None\n"
     ]
    }
   ],
   "source": [
    "helm install kibana elastic/kibana "
   ]
  },
  {
   "cell_type": "code",
   "execution_count": 17,
   "metadata": {},
   "outputs": [
    {
     "name": "stdout",
     "output_type": "stream",
     "text": [
      "NAME                             READY   STATUS              RESTARTS   AGE\n",
      "kibana-kibana-6bcc4ddb7c-2zn8d   0/1     ContainerCreating   0          61s\n"
     ]
    }
   ],
   "source": [
    "kubectl get pods -l app=kibana"
   ]
  },
  {
   "cell_type": "markdown",
   "metadata": {},
   "source": [
    "## INSTALL THE KIBANA SERVICE \n",
    "\n",
    "Kibana is a free and open user interface that lets you visualize your Elasticsearch data and navigate the Elastic Stack. Do anything from tracking query load to understanding the way requests flow through your apps.\n",
    "\n",
    "![tiny arrow](https://static-www.elastic.co/v3/assets/bltefdd0b53724fa2ce/blt14d57abad5d2499c/5ee0060cbf4ae52c761edcb7/illustrated-screenshot-kibana-7dot8-730x555.png)"
   ]
  },
  {
   "cell_type": "code",
   "execution_count": 30,
   "metadata": {},
   "outputs": [
    {
     "name": "stdout",
     "output_type": "stream",
     "text": [
      "service/kibana created\n"
     ]
    }
   ],
   "source": [
    "## Set Service\n",
    "cat << 'EOF' | kubectl create -f - \n",
    "apiVersion: v1\n",
    "kind: Service\n",
    "metadata:\n",
    "  name: kibana\n",
    "  labels:\n",
    "    hpecp.hpe.com/hpecp-internal-gateway: \"true\"\n",
    "spec:\n",
    "  selector: \n",
    "    app: kibana\n",
    "  ports:\n",
    "  - name: http-kibana\n",
    "    protocol: TCP\n",
    "    port: 5601\n",
    "    targetPort: 5601 \n",
    "  type: NodePort\n",
    "EOF"
   ]
  },
  {
   "cell_type": "code",
   "execution_count": 32,
   "metadata": {},
   "outputs": [
    {
     "name": "stdout",
     "output_type": "stream",
     "text": [
      "Name:                     kibana\n",
      "Namespace:                researchgroup1\n",
      "Labels:                   hpecp.hpe.com/hpecp-internal-gateway=true\n",
      "Annotations:              hpecp-internal-gateway/5601: ec2-15-236-36-5.eu-west-3.compute.amazonaws.com:10024\n",
      "Selector:                 app=kibana\n",
      "Type:                     NodePort\n",
      "IP:                       10.96.2.162\n",
      "Port:                     http-kibana  5601/TCP\n",
      "TargetPort:               5601/TCP\n",
      "NodePort:                 http-kibana  32554/TCP\n",
      "Endpoints:                10.192.2.30:5601\n",
      "Session Affinity:         None\n",
      "External Traffic Policy:  Cluster\n",
      "Events:\n",
      "  Type    Reason  Age   From         Message\n",
      "  ----    ------  ----  ----         -------\n",
      "  Normal  HpeCp   99s   hpecp-agent  Created HPECP K8S service\n"
     ]
    }
   ],
   "source": [
    "kubectl describe svc kibana"
   ]
  },
  {
   "cell_type": "code",
   "execution_count": 36,
   "metadata": {},
   "outputs": [
    {
     "name": "stdout",
     "output_type": "stream",
     "text": [
      "Name:              elasticsearch-master\n",
      "Namespace:         researchgroup1\n",
      "Labels:            app=elasticsearch-master\n",
      "                   app.kubernetes.io/managed-by=Helm\n",
      "                   chart=elasticsearch\n",
      "                   heritage=Helm\n",
      "                   release=elasticsearch\n",
      "Annotations:       meta.helm.sh/release-name: elasticsearch\n",
      "                   meta.helm.sh/release-namespace: researchgroup1\n",
      "Selector:          app=elasticsearch-master,chart=elasticsearch,release=elasticsearch\n",
      "Type:              ClusterIP\n",
      "IP:                10.96.89.70\n",
      "Port:              http  9200/TCP\n",
      "TargetPort:        9200/TCP\n",
      "Endpoints:         10.192.1.230:9200,10.192.2.204:9200,10.192.2.29:9200\n",
      "Port:              transport  9300/TCP\n",
      "TargetPort:        9300/TCP\n",
      "Endpoints:         10.192.1.230:9300,10.192.2.204:9300,10.192.2.29:9300\n",
      "Session Affinity:  None\n",
      "Events:            <none>\n"
     ]
    }
   ],
   "source": [
    "kubectl describe svc elasticsearch-master "
   ]
  },
  {
   "cell_type": "markdown",
   "metadata": {},
   "source": [
    "## Setup Kibana using  UI WITH THE INTERNAL DNS MASTER OF YOUR ES CLUSTER. \n",
    "\n",
    "Example:  elasticsearch-master.researchgroup1.svc.cluster.local:9300\n",
    "\n",
    "`<ELASTICSEARCH SERVICE>.<NAMESPACE>.<SVC>.<YOUR-CLUSTER-DOMAIN>:<PORT>`"
   ]
  },
  {
   "cell_type": "code",
   "execution_count": null,
   "metadata": {},
   "outputs": [],
   "source": []
  },
  {
   "cell_type": "markdown",
   "metadata": {},
   "source": [
    "## INSTALL ELASTIC HQ AN OPENSOURCE CLUSTER MANAGER FOR ELASTIC SEARCH \n",
    "\n",
    "ElasticHQ is an open source application that offers a simplified interface for managing and monitoring Elasticsearch clusters.\n",
    "\n",
    "![tiny arrow](https://www.elastichq.org/img/elastichq.png)"
   ]
  },
  {
   "cell_type": "code",
   "execution_count": 68,
   "metadata": {},
   "outputs": [
    {
     "name": "stdout",
     "output_type": "stream",
     "text": [
      "deployment.apps/elastichq-app created\n",
      "service/elastichq-app created\n"
     ]
    }
   ],
   "source": [
    "cat << 'EOF' | kubectl create -f -\n",
    "apiVersion: apps/v1\n",
    "kind: Deployment\n",
    "metadata:\n",
    "  name: elastichq-app\n",
    "spec:\n",
    "  selector:\n",
    "    matchLabels:\n",
    "      app: elastichq-app\n",
    "      tier: frontend\n",
    "  template:\n",
    "    metadata:\n",
    "      labels:\n",
    "        app:  elastichq-app\n",
    "        tier: frontend\n",
    "    spec:\n",
    "     \n",
    "      containers:\n",
    "        - name: elastichq-app\n",
    "          image: elastichq/elasticsearch-hq\n",
    "          ports:\n",
    "            - containerPort: 5000\n",
    "              name: elastichq-port\n",
    "\n",
    "---\n",
    "\n",
    "apiVersion: v1\n",
    "kind: Service\n",
    "metadata:\n",
    "  name: elastichq-app \n",
    "spec:\n",
    "  selector: \n",
    "    app: elastichq-app\n",
    "  ports:\n",
    "  - name: http-elastichhq\n",
    "    protocol: TCP\n",
    "    port: 5000\n",
    "    targetPort: 5000\n",
    "  type: NodePort\n",
    "          \n",
    "          \n",
    "EOF"
   ]
  },
  {
   "cell_type": "code",
   "execution_count": 75,
   "metadata": {},
   "outputs": [
    {
     "name": "stdout",
     "output_type": "stream",
     "text": [
      "Name:                     elastichq-app\n",
      "Namespace:                researchgroup1\n",
      "Labels:                   hpecp.hpe.com/hpecp-internal-gateway=true\n",
      "Annotations:              hpecp-internal-gateway/5000: ec2-15-236-36-5.eu-west-3.compute.amazonaws.com:10028\n",
      "Selector:                 app=elastichq-app\n",
      "Type:                     NodePort\n",
      "IP:                       10.96.67.124\n",
      "Port:                     http-elastichhq  5000/TCP\n",
      "TargetPort:               5000/TCP\n",
      "NodePort:                 http-elastichhq  32710/TCP\n",
      "Endpoints:                10.192.2.213:5000\n",
      "Session Affinity:         None\n",
      "External Traffic Policy:  Cluster\n",
      "Events:\n",
      "  Type    Reason  Age   From         Message\n",
      "  ----    ------  ----  ----         -------\n",
      "  Normal  HpeCp   27m   hpecp-agent  Created HPECP K8S service\n",
      "\n"
     ]
    }
   ],
   "source": [
    "kubectl describe svc elastichq"
   ]
  },
  {
   "cell_type": "code",
   "execution_count": null,
   "metadata": {},
   "outputs": [],
   "source": []
  },
  {
   "cell_type": "code",
   "execution_count": null,
   "metadata": {},
   "outputs": [],
   "source": []
  },
  {
   "cell_type": "code",
   "execution_count": null,
   "metadata": {},
   "outputs": [],
   "source": []
  }
 ],
 "metadata": {
  "kernelspec": {
   "display_name": "Bash",
   "language": "bash",
   "name": "bash"
  },
  "language_info": {
   "codemirror_mode": "shell",
   "file_extension": ".sh",
   "mimetype": "text/x-sh",
   "name": "bash"
  }
 },
 "nbformat": 4,
 "nbformat_minor": 4
}
