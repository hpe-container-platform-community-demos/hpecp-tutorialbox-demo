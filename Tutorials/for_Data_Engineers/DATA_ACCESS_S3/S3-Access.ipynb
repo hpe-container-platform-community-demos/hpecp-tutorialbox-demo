{
 "cells": [
  {
   "cell_type": "code",
   "execution_count": null,
   "metadata": {},
   "outputs": [],
   "source": [
    "## S3 Object Access to HPE Data Fabric"
   ]
  },
  {
   "cell_type": "code",
   "execution_count": 1,
   "metadata": {},
   "outputs": [
    {
     "name": "stdout",
     "output_type": "stream",
     "text": [
      "Switched to context \"Development\".\n"
     ]
    }
   ],
   "source": [
    "kubectx Development"
   ]
  },
  {
   "cell_type": "code",
   "execution_count": 47,
   "metadata": {},
   "outputs": [
    {
     "name": "stdout",
     "output_type": "stream",
     "text": [
      "Context \"Development\" modified.\n",
      "Active namespace is \"team1\".\n"
     ]
    }
   ],
   "source": [
    "kubens team1"
   ]
  },
  {
   "cell_type": "code",
   "execution_count": 9,
   "metadata": {},
   "outputs": [
    {
     "name": "stdout",
     "output_type": "stream",
     "text": [
      "\"minio\" has been added to your repositories\n"
     ]
    }
   ],
   "source": [
    "helm repo add minio https://helm.min.io/"
   ]
  },
  {
   "cell_type": "code",
   "execution_count": null,
   "metadata": {},
   "outputs": [],
   "source": []
  },
  {
   "cell_type": "code",
   "execution_count": 10,
   "metadata": {},
   "outputs": [
    {
     "name": "stdout",
     "output_type": "stream",
     "text": [
      "NAME: s3-datafabric\n",
      "LAST DEPLOYED: Thu Sep 17 16:37:32 2020\n",
      "NAMESPACE: team1\n",
      "STATUS: deployed\n",
      "REVISION: 1\n",
      "TEST SUITE: None\n",
      "NOTES:\n",
      "Minio can be accessed via port 9000 on the following DNS name from within your cluster:\n",
      "s3-datafabric-minio.team1.svc.cluster.local\n",
      "\n",
      "To access Minio from localhost, run the below commands:\n",
      "\n",
      "  1. export POD_NAME=$(kubectl get pods --namespace team1 -l \"release=s3-datafabric\" -o jsonpath=\"{.items[0].metadata.name}\")\n",
      "\n",
      "  2. kubectl port-forward $POD_NAME 9000 --namespace team1\n",
      "\n",
      "Read more about port forwarding here: http://kubernetes.io/docs/user-guide/kubectl/kubectl_port-forward/\n",
      "\n",
      "You can now access Minio server on http://localhost:9000. Follow the below steps to connect to Minio server with mc client:\n",
      "\n",
      "  1. Download the Minio mc client - https://docs.minio.io/docs/minio-client-quickstart-guide\n",
      "\n",
      "  2. Get the ACCESS_KEY=$(kubectl get secret minio -o jsonpath=\"{.data.accesskey}\" | base64 --decode) and the SECRET_KEY=$(kubectl get secret minio -o jsonpath=\"{.data.secretkey}\" | base64 --decode)\n",
      "\t\n",
      "\t3. mc alias set s3-datafabric-minio-local http://<External-IP>:9000 \"$ACCESS_KEY\" \"$SECRET_KEY\" --api s3v4\n",
      "\n",
      "  4. mc ls s3-datafabric-minio-local\n",
      "\n",
      "Alternately, you can use your browser or the Minio SDK to access the server - https://docs.minio.io/categories/17\n"
     ]
    }
   ],
   "source": [
    "helm install s3-datafabric --set nasgateway.replicas=1 --set nasgateway.enabled=true minio/minio --set podLabels.\"hpecp\\.hpe\\.com/fsmount\"=team1 --set accessKey=myaccesskey,secretKey=mysecretkey --set bucketRoot=/bd-mnt-fs --set persistence.enabled=false --set service.type=NodePort"
   ]
  },
  {
   "cell_type": "code",
   "execution_count": null,
   "metadata": {},
   "outputs": [
    {
     "name": "stdout",
     "output_type": "stream",
     "text": [
      "Forwarding from 127.0.0.1:9000 -> 9000\n"
     ]
    }
   ],
   "source": [
    "kubectl port-forward $POD_NAME 9000 --namespace team1"
   ]
  },
  {
   "cell_type": "code",
   "execution_count": 5,
   "metadata": {},
   "outputs": [
    {
     "name": "stdout",
     "output_type": "stream",
     "text": [
      "Name:                     s3-datafabric-minio\n",
      "Namespace:                team1\n",
      "Labels:                   app=minio\n",
      "                          app.kubernetes.io/managed-by=Helm\n",
      "                          chart=minio-6.3.1\n",
      "                          heritage=Helm\n",
      "                          hpecp.hpe.com/hpecp-internal-gateway=true\n",
      "                          release=s3-datafabric\n",
      "Annotations:              hpecp-internal-gateway/9000: ec2-15-236-147-87.eu-west-3.compute.amazonaws.com:10004\n",
      "                          meta.helm.sh/release-name: s3-datafabric\n",
      "                          meta.helm.sh/release-namespace: team1\n",
      "Selector:                 app=minio,release=s3-datafabric\n",
      "Type:                     NodePort\n",
      "IP:                       10.104.253.24\n",
      "Port:                     http  9000/TCP\n",
      "TargetPort:               9000/TCP\n",
      "NodePort:                 http  32000/TCP\n",
      "Endpoints:                \n",
      "Session Affinity:         None\n",
      "External Traffic Policy:  Cluster\n",
      "Events:\n",
      "  Type    Reason  Age   From         Message\n",
      "  ----    ------  ----  ----         -------\n",
      "  Normal  HpeCp   28s   hpecp-agent  Created HPECP K8S service\n"
     ]
    }
   ],
   "source": [
    "kubectl describe svc s3-datafabric-minio \n"
   ]
  },
  {
   "cell_type": "code",
   "execution_count": null,
   "metadata": {},
   "outputs": [],
   "source": []
  },
  {
   "cell_type": "code",
   "execution_count": 9,
   "metadata": {},
   "outputs": [
    {
     "name": "stdout",
     "output_type": "stream",
     "text": [
      "Error: uninstall: Release not loaded: s3-datafabric: release: not found\n"
     ]
    },
    {
     "ename": "",
     "evalue": "1",
     "output_type": "error",
     "traceback": []
    }
   ],
   "source": [
    "helm uninstall s3-datafabric "
   ]
  },
  {
   "cell_type": "code",
   "execution_count": 13,
   "metadata": {},
   "outputs": [
    {
     "name": "stdout",
     "output_type": "stream",
     "text": [
      "NAME                                              TYPE           CLUSTER-IP       EXTERNAL-IP   PORT(S)                          AGE\n",
      "cli-svc                                           ClusterIP      None             <none>        <none>                           31d\n",
      "dremio-client                                     NodePort       10.99.197.138    <none>        31010:31578/TCP,9047:31087/TCP   8d\n",
      "dremio-cluster-pod                                ClusterIP      None             <none>        9999/TCP                         8d\n",
      "hivemeta-svc                                      ClusterIP      None             <none>        9083/TCP                         31d\n",
      "s3-datafabric-minio                               ClusterIP      10.108.149.217   <none>        9000/TCP                         60s\n",
      "spark-master                                      ClusterIP      None             <none>        7077/TCP,8080/TCP                31d\n",
      "spark-ui-proxy                                    NodePort       10.99.30.198     <none>        80:32115/TCP                     31d\n",
      "spark-wordcount-secure-1597648856895-driver-svc   ClusterIP      None             <none>        7078/TCP,7079/TCP                31d\n",
      "spark-wordcount-secure-ui-svc                     ClusterIP      10.110.192.211   <none>        4040/TCP                         31d\n",
      "spark-worker                                      ClusterIP      None             <none>        7077/TCP,8080/TCP                31d\n",
      "sparkhs-svc                                       LoadBalancer   10.107.215.63    <pending>     18480:32581/TCP                  31d\n",
      "zk-cs                                             ClusterIP      10.99.202.87     <none>        2181/TCP                         8d\n",
      "zk-hs                                             ClusterIP      None             <none>        2181/TCP,2888/TCP,3888/TCP       8d\n"
     ]
    }
   ],
   "source": [
    "kubectl get svc"
   ]
  },
  {
   "cell_type": "code",
   "execution_count": null,
   "metadata": {},
   "outputs": [],
   "source": []
  }
 ],
 "metadata": {
  "kernelspec": {
   "display_name": "Bash",
   "language": "bash",
   "name": "bash"
  },
  "language_info": {
   "codemirror_mode": "shell",
   "file_extension": ".sh",
   "mimetype": "text/x-sh",
   "name": "bash"
  }
 },
 "nbformat": 4,
 "nbformat_minor": 4
}
