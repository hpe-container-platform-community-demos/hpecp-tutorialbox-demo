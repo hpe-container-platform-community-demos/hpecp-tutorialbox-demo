{
 "cells": [
  {
   "cell_type": "markdown",
   "metadata": {},
   "source": [
    "# Deployment of Dremio SQL Data Lake Solution on the HPE Ezmeral Container Platform with HPE Ezmeral Data Fabric"
   ]
  },
  {
   "cell_type": "markdown",
   "metadata": {},
   "source": [
    "![image](https://www.dremio.com/img/blog/gnarly-wave-data-lake.png)"
   ]
  },
  {
   "cell_type": "markdown",
   "metadata": {},
   "source": [
    "#### Select the K8s cluster where you are planning the deployment of  dremio"
   ]
  },
  {
   "cell_type": "code",
   "execution_count": 1,
   "metadata": {},
   "outputs": [
    {
     "name": "stdout",
     "output_type": "stream",
     "text": [
      "Switched to context \"Development\".\n"
     ]
    }
   ],
   "source": [
    "kubectx Development"
   ]
  },
  {
   "cell_type": "markdown",
   "metadata": {},
   "source": [
    "#### Select the tenant namespace where you are planning to deploy dremio"
   ]
  },
  {
   "cell_type": "code",
   "execution_count": 2,
   "metadata": {},
   "outputs": [
    {
     "name": "stdout",
     "output_type": "stream",
     "text": [
      "Context \"Development\" modified.\n",
      "Active namespace is \"team1\".\n"
     ]
    }
   ],
   "source": [
    "kubens team1"
   ]
  },
  {
   "cell_type": "markdown",
   "metadata": {},
   "source": [
    "### Get Dremio Cloud"
   ]
  },
  {
   "cell_type": "code",
   "execution_count": 4,
   "metadata": {},
   "outputs": [
    {
     "name": "stdout",
     "output_type": "stream",
     "text": [
      "Cloning into 'dremio-cloud-tools'...\n",
      "remote: Enumerating objects: 8, done.\u001b[K\n",
      "remote: Counting objects: 100% (8/8), done.\u001b[K\n",
      "remote: Compressing objects: 100% (6/6), done.\u001b[K\n",
      "remote: Total 467 (delta 2), reused 8 (delta 2), pack-reused 459\u001b[K\n",
      "Receiving objects: 100% (467/467), 140.53 KiB | 0 bytes/s, done.\n",
      "Resolving deltas: 100% (196/196), done.\n"
     ]
    }
   ],
   "source": [
    "git clone https://github.com/dremio/dremio-cloud-tools"
   ]
  },
  {
   "cell_type": "code",
   "execution_count": null,
   "metadata": {},
   "outputs": [],
   "source": [
    "## DREMIO INFOS https://github.com/dremio/dremio-cloud-tools/blob/master/charts/dremio_v2/docs/Values-Reference.md"
   ]
  },
  {
   "cell_type": "code",
   "execution_count": 15,
   "metadata": {},
   "outputs": [
    {
     "name": "stdout",
     "output_type": "stream",
     "text": [
      "NAME: dremio\n",
      "LAST DEPLOYED: Wed Sep  9 09:21:53 2020\n",
      "NAMESPACE: team1\n",
      "STATUS: deployed\n",
      "REVISION: 1\n",
      "TEST SUITE: None\n"
     ]
    }
   ],
   "source": [
    "helm install dremio dremio-cloud-tools/charts/dremio_v2 -f values-dremio.yaml"
   ]
  },
  {
   "cell_type": "code",
   "execution_count": 26,
   "metadata": {},
   "outputs": [
    {
     "name": "stdout",
     "output_type": "stream",
     "text": [
      "NAME                READY   STATUS    RESTARTS   AGE\n",
      "dremio-executor-0   1/1     Running   0          7m30s\n",
      "dremio-executor-1   1/1     Running   0          7m30s\n"
     ]
    }
   ],
   "source": [
    "kubectl get pods  -l app=dremio-executor"
   ]
  },
  {
   "cell_type": "code",
   "execution_count": 1,
   "metadata": {},
   "outputs": [
    {
     "name": "stdout",
     "output_type": "stream",
     "text": [
      "NAME  \tNAMESPACE\tREVISION\tUPDATED                                \tSTATUS  \tCHART       \tAPP VERSION\n",
      "dremio\tteam1    \t1       \t2020-09-08 15:11:20.185328492 +0000 UTC\tdeployed\tdremio-2.0.0\t           \n"
     ]
    }
   ],
   "source": [
    "helm list"
   ]
  },
  {
   "cell_type": "code",
   "execution_count": 50,
   "metadata": {},
   "outputs": [
    {
     "name": "stdout",
     "output_type": "stream",
     "text": [
      "Name:                     dremio-client\n",
      "Namespace:                team1\n",
      "Labels:                   app=dremio-client\n",
      "                          app.kubernetes.io/managed-by=Helm\n",
      "                          hpecp.hpe.com/hpecp-internal-gateway=true\n",
      "Annotations:              hpecp-internal-gateway/31010: ec2-15-236-147-87.eu-west-3.compute.amazonaws.com:10012\n",
      "                          hpecp-internal-gateway/9047: ec2-15-236-147-87.eu-west-3.compute.amazonaws.com:10013\n",
      "                          meta.helm.sh/release-name: dremio\n",
      "                          meta.helm.sh/release-namespace: team1\n",
      "Selector:                 app=dremio-coordinator\n",
      "Type:                     NodePort\n",
      "IP:                       10.106.134.198\n",
      "Port:                     client  31010/TCP\n",
      "TargetPort:               client/TCP\n",
      "NodePort:                 client  31002/TCP\n",
      "Endpoints:                \n",
      "Port:                     web  9047/TCP\n",
      "TargetPort:               web/TCP\n",
      "NodePort:                 web  30602/TCP\n",
      "Endpoints:                \n",
      "Session Affinity:         None\n",
      "External Traffic Policy:  Cluster\n",
      "Events:\n",
      "  Type    Reason  Age   From         Message\n",
      "  ----    ------  ----  ----         -------\n",
      "  Normal  HpeCp   47s   hpecp-agent  Created HPECP K8S service\n"
     ]
    }
   ],
   "source": [
    "kubectl describe svc dremio-client"
   ]
  },
  {
   "cell_type": "markdown",
   "metadata": {},
   "source": [
    "## SCALEOUT DREMIO Deployment with additional Executors"
   ]
  },
  {
   "cell_type": "code",
   "execution_count": 2,
   "metadata": {},
   "outputs": [
    {
     "name": "stdout",
     "output_type": "stream",
     "text": [
      "Release \"dremio\" has been upgraded. Happy Helming!\n",
      "NAME: dremio\n",
      "LAST DEPLOYED: Tue Sep 15 08:40:49 2020\n",
      "NAMESPACE: team1\n",
      "STATUS: deployed\n",
      "REVISION: 3\n",
      "TEST SUITE: None\n"
     ]
    }
   ],
   "source": [
    "helm upgrade dremio dremio-cloud-tools/charts/dremio_v2 -f values-dremio.yaml --set executor.count=4"
   ]
  },
  {
   "cell_type": "code",
   "execution_count": 4,
   "metadata": {},
   "outputs": [
    {
     "name": "stdout",
     "output_type": "stream",
     "text": [
      "NAME                READY   STATUS    RESTARTS   AGE\n",
      "dremio-executor-0   1/1     Running   8          5d23h\n",
      "dremio-executor-1   1/1     Running   8          5d23h\n",
      "dremio-executor-2   1/1     Running   8          5d23h\n",
      "dremio-executor-3   1/1     Running   0          13m\n"
     ]
    }
   ],
   "source": [
    "kubectl get pods  -l app=dremio-executor"
   ]
  },
  {
   "cell_type": "code",
   "execution_count": null,
   "metadata": {},
   "outputs": [],
   "source": []
  },
  {
   "cell_type": "code",
   "execution_count": null,
   "metadata": {},
   "outputs": [],
   "source": []
  },
  {
   "cell_type": "markdown",
   "metadata": {},
   "source": [
    "## Shutdown DREMIO Deployment"
   ]
  },
  {
   "cell_type": "code",
   "execution_count": null,
   "metadata": {},
   "outputs": [],
   "source": []
  },
  {
   "cell_type": "code",
   "execution_count": 12,
   "metadata": {},
   "outputs": [
    {
     "name": "stdout",
     "output_type": "stream",
     "text": [
      "release \"dremio\" uninstalled\n"
     ]
    }
   ],
   "source": [
    "helm uninstall dremio"
   ]
  },
  {
   "cell_type": "markdown",
   "metadata": {},
   "source": [
    "Add Persistent Volume\n",
    "\n"
   ]
  },
  {
   "cell_type": "code",
   "execution_count": 7,
   "metadata": {},
   "outputs": [
    {
     "name": "stdout",
     "output_type": "stream",
     "text": [
      "serviceaccount/datafabric-apps-sa unchanged\n",
      "secret/datafabric-ticket-hcp-secret unchanged\n",
      "error: error parsing static-pvc-datafabric.yaml: error converting YAML to JSON: yaml: line 25: found character that cannot start any token\n"
     ]
    },
    {
     "ename": "",
     "evalue": "1",
     "output_type": "error",
     "traceback": []
    }
   ],
   "source": [
    "kubectl apply -f static-pvc-datafabric.yaml"
   ]
  },
  {
   "cell_type": "code",
   "execution_count": null,
   "metadata": {},
   "outputs": [],
   "source": []
  }
 ],
 "metadata": {
  "kernelspec": {
   "display_name": "Bash",
   "language": "bash",
   "name": "bash"
  },
  "language_info": {
   "codemirror_mode": "shell",
   "file_extension": ".sh",
   "mimetype": "text/x-sh",
   "name": "bash"
  }
 },
 "nbformat": 4,
 "nbformat_minor": 4
}
