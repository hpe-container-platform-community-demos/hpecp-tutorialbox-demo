{
 "cells": [
  {
   "cell_type": "markdown",
   "metadata": {},
   "source": [
    "# Deployment of Dremio SQL Data Lake Solution on the HPE Ezmeral Container Platform with HPE Ezmeral Data Fabric"
   ]
  },
  {
   "cell_type": "markdown",
   "metadata": {},
   "source": [
    "![image](https://www.dremio.com/img/blog/gnarly-wave-data-lake.png)"
   ]
  },
  {
   "cell_type": "markdown",
   "metadata": {},
   "source": [
    "#### Select the K8s cluster where you are planning the deployment of  dremio"
   ]
  },
  {
   "cell_type": "code",
   "execution_count": 1,
   "metadata": {},
   "outputs": [
    {
     "name": "stdout",
     "output_type": "stream",
     "text": [
      "tput: No value for $TERM and no -T specified\n",
      "tput: No value for $TERM and no -T specified\n",
      "tput: No value for $TERM and no -T specified\n",
      "Development\n"
     ]
    }
   ],
   "source": [
    "kubectx Development"
   ]
  },
  {
   "cell_type": "markdown",
   "metadata": {},
   "source": [
    "#### Select the tenant namespace where you are planning to deploy dremio"
   ]
  },
  {
   "cell_type": "code",
   "execution_count": 23,
   "metadata": {},
   "outputs": [
    {
     "name": "stdout",
     "output_type": "stream",
     "text": [
      "Context \"Development\" modified.\n",
      "Active namespace is \"team1\".\n"
     ]
    }
   ],
   "source": [
    "kubens team1"
   ]
  },
  {
   "cell_type": "code",
   "execution_count": null,
   "metadata": {},
   "outputs": [],
   "source": [
    "## DREMIO INFOS https://github.com/dremio/dremio-cloud-tools/blob/master/charts/dremio_v2/docs/Values-Reference.md"
   ]
  },
  {
   "cell_type": "code",
   "execution_count": 15,
   "metadata": {},
   "outputs": [
    {
     "name": "stdout",
     "output_type": "stream",
     "text": [
      "NAME: dremio\n",
      "LAST DEPLOYED: Wed Sep  9 09:21:53 2020\n",
      "NAMESPACE: team1\n",
      "STATUS: deployed\n",
      "REVISION: 1\n",
      "TEST SUITE: None\n"
     ]
    }
   ],
   "source": [
    "helm install dremio dremio-cloud-tools/charts/dremio_v2 -f values-dremio.yaml"
   ]
  },
  {
   "cell_type": "code",
   "execution_count": 26,
   "metadata": {},
   "outputs": [
    {
     "name": "stdout",
     "output_type": "stream",
     "text": [
      "NAME                READY   STATUS    RESTARTS   AGE\n",
      "dremio-executor-0   1/1     Running   0          7m30s\n",
      "dremio-executor-1   1/1     Running   0          7m30s\n"
     ]
    }
   ],
   "source": [
    "kubectl get pods  -l app=dremio-executor"
   ]
  },
  {
   "cell_type": "code",
   "execution_count": 1,
   "metadata": {},
   "outputs": [
    {
     "name": "stdout",
     "output_type": "stream",
     "text": [
      "NAME  \tNAMESPACE\tREVISION\tUPDATED                                \tSTATUS  \tCHART       \tAPP VERSION\n",
      "dremio\tteam1    \t1       \t2020-09-08 15:11:20.185328492 +0000 UTC\tdeployed\tdremio-2.0.0\t           \n"
     ]
    }
   ],
   "source": [
    "helm list"
   ]
  },
  {
   "cell_type": "code",
   "execution_count": 50,
   "metadata": {},
   "outputs": [
    {
     "name": "stdout",
     "output_type": "stream",
     "text": [
      "Name:                     dremio-client\n",
      "Namespace:                team1\n",
      "Labels:                   app=dremio-client\n",
      "                          app.kubernetes.io/managed-by=Helm\n",
      "                          hpecp.hpe.com/hpecp-internal-gateway=true\n",
      "Annotations:              hpecp-internal-gateway/31010: ec2-15-236-147-87.eu-west-3.compute.amazonaws.com:10012\n",
      "                          hpecp-internal-gateway/9047: ec2-15-236-147-87.eu-west-3.compute.amazonaws.com:10013\n",
      "                          meta.helm.sh/release-name: dremio\n",
      "                          meta.helm.sh/release-namespace: team1\n",
      "Selector:                 app=dremio-coordinator\n",
      "Type:                     NodePort\n",
      "IP:                       10.106.134.198\n",
      "Port:                     client  31010/TCP\n",
      "TargetPort:               client/TCP\n",
      "NodePort:                 client  31002/TCP\n",
      "Endpoints:                \n",
      "Port:                     web  9047/TCP\n",
      "TargetPort:               web/TCP\n",
      "NodePort:                 web  30602/TCP\n",
      "Endpoints:                \n",
      "Session Affinity:         None\n",
      "External Traffic Policy:  Cluster\n",
      "Events:\n",
      "  Type    Reason  Age   From         Message\n",
      "  ----    ------  ----  ----         -------\n",
      "  Normal  HpeCp   47s   hpecp-agent  Created HPECP K8S service\n"
     ]
    }
   ],
   "source": [
    "kubectl describe svc dremio-client"
   ]
  },
  {
   "cell_type": "markdown",
   "metadata": {},
   "source": [
    "## Scaleout DREMIO Deployment with additional Executors"
   ]
  },
  {
   "cell_type": "code",
   "execution_count": 27,
   "metadata": {},
   "outputs": [
    {
     "name": "stdout",
     "output_type": "stream",
     "text": [
      "Release \"dremio\" has been upgraded. Happy Helming!\n",
      "NAME: dremio\n",
      "LAST DEPLOYED: Wed Sep  9 09:30:44 2020\n",
      "NAMESPACE: team1\n",
      "STATUS: deployed\n",
      "REVISION: 2\n",
      "TEST SUITE: None\n"
     ]
    }
   ],
   "source": [
    "helm upgrade dremio dremio-cloud-tools/charts/dremio_v2 -f values-dremio.yaml --set executor.count=3"
   ]
  },
  {
   "cell_type": "code",
   "execution_count": 29,
   "metadata": {},
   "outputs": [
    {
     "name": "stdout",
     "output_type": "stream",
     "text": [
      "NAME                READY   STATUS    RESTARTS   AGE\n",
      "dremio-executor-0   1/1     Running   0          10m\n",
      "dremio-executor-1   1/1     Running   0          10m\n",
      "dremio-executor-2   1/1     Running   0          113s\n"
     ]
    }
   ],
   "source": [
    "kubectl get pods  -l app=dremio-executor"
   ]
  },
  {
   "cell_type": "code",
   "execution_count": null,
   "metadata": {},
   "outputs": [],
   "source": []
  },
  {
   "cell_type": "code",
   "execution_count": null,
   "metadata": {},
   "outputs": [],
   "source": []
  },
  {
   "cell_type": "markdown",
   "metadata": {},
   "source": [
    "## Shutdown DREMIO Deployment"
   ]
  },
  {
   "cell_type": "code",
   "execution_count": null,
   "metadata": {},
   "outputs": [],
   "source": []
  },
  {
   "cell_type": "code",
   "execution_count": 12,
   "metadata": {},
   "outputs": [
    {
     "name": "stdout",
     "output_type": "stream",
     "text": [
      "release \"dremio\" uninstalled\n"
     ]
    }
   ],
   "source": [
    "helm uninstall dremio"
   ]
  },
  {
   "cell_type": "code",
   "execution_count": null,
   "metadata": {},
   "outputs": [],
   "source": []
  }
 ],
 "metadata": {
  "kernelspec": {
   "display_name": "Bash",
   "language": "bash",
   "name": "bash"
  },
  "language_info": {
   "codemirror_mode": "shell",
   "file_extension": ".sh",
   "mimetype": "text/x-sh",
   "name": "bash"
  }
 },
 "nbformat": 4,
 "nbformat_minor": 4
}
