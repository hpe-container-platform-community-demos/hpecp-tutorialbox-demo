{
 "cells": [
  {
   "cell_type": "code",
   "execution_count": 1,
   "metadata": {},
   "outputs": [
    {
     "name": "stdout",
     "output_type": "stream",
     "text": [
      "Switched to context \"Development\".\n"
     ]
    }
   ],
   "source": [
    "kubectx Development"
   ]
  },
  {
   "cell_type": "code",
   "execution_count": 2,
   "metadata": {},
   "outputs": [
    {
     "name": "stdout",
     "output_type": "stream",
     "text": [
      "Context \"Development\" modified.\n",
      "Active namespace is \"team1\".\n"
     ]
    }
   ],
   "source": [
    "kubens team1"
   ]
  },
  {
   "cell_type": "code",
   "execution_count": 3,
   "metadata": {},
   "outputs": [
    {
     "name": "stdout",
     "output_type": "stream",
     "text": [
      "\"grafana\" has been added to your repositories\n"
     ]
    }
   ],
   "source": [
    "helm repo add grafana https://grafana.github.io/helm-charts"
   ]
  },
  {
   "cell_type": "code",
   "execution_count": 6,
   "metadata": {},
   "outputs": [
    {
     "name": "stdout",
     "output_type": "stream",
     "text": [
      "Hang tight while we grab the latest from your chart repositories...\n",
      "...Successfully got an update from the \"grafana\" chart repository\n",
      "...Successfully got an update from the \"minio\" chart repository\n",
      "Update Complete. ⎈ Happy Helming!⎈ \n"
     ]
    }
   ],
   "source": [
    "helm repo update"
   ]
  },
  {
   "cell_type": "code",
   "execution_count": 9,
   "metadata": {},
   "outputs": [
    {
     "name": "stdout",
     "output_type": "stream",
     "text": [
      "NAME: monitoring\n",
      "LAST DEPLOYED: Mon Sep 21 08:35:43 2020\n",
      "NAMESPACE: team1\n",
      "STATUS: deployed\n",
      "REVISION: 1\n",
      "NOTES:\n",
      "1. Get your 'admin' user password by running:\n",
      "\n",
      "   kubectl get secret --namespace team1 monitoring-grafana -o jsonpath=\"{.data.admin-password}\" | base64 --decode ; echo\n",
      "\n",
      "2. The Grafana server can be accessed via port 80 on the following DNS name from within your cluster:\n",
      "\n",
      "   monitoring-grafana.team1.svc.cluster.local\n",
      "\n",
      "   Get the Grafana URL to visit by running these commands in the same shell:\n",
      "export NODE_PORT=$(kubectl get --namespace team1 -o jsonpath=\"{.spec.ports[0].nodePort}\" services monitoring-grafana)\n",
      "     export NODE_IP=$(kubectl get nodes --namespace team1 -o jsonpath=\"{.items[0].status.addresses[0].address}\")\n",
      "     echo http://$NODE_IP:$NODE_PORT\n",
      "\n",
      "\n",
      "3. Login with the password from step 1 and the username: admin\n",
      "#################################################################################\n",
      "######   WARNING: Persistence is disabled!!! You will lose your data when   #####\n",
      "######            the Grafana pod is terminated.                            #####\n",
      "#################################################################################\n"
     ]
    }
   ],
   "source": [
    "helm install monitoring grafana/grafana --set service.type=NodePort "
   ]
  },
  {
   "cell_type": "code",
   "execution_count": 10,
   "metadata": {},
   "outputs": [
    {
     "name": "stdout",
     "output_type": "stream",
     "text": [
      "NAME                                 READY   STATUS      RESTARTS   AGE\n",
      "dremio-executor-0                    1/1     Running     14         11d\n",
      "dremio-executor-1                    1/1     Running     14         11d\n",
      "dremio-executor-2                    1/1     Running     14         11d\n",
      "dremio-executor-3                    1/1     Running     6          5d23h\n",
      "dremio-master-0                      1/1     Running     7          11d\n",
      "hivemeta-0                           1/1     Running     3          6d1h\n",
      "kdss-2ntp8-0                         1/1     Running     1          3d\n",
      "kdss-jhs8x-0                         1/1     Running     1          3d\n",
      "kdss-ll65s-0                         1/1     Running     1          3d\n",
      "monitoring-grafana-659ddd86-qmz46    0/1     Running     0          10s\n",
      "spark-master-678464f56-8g7tq         1/1     Running     3          6d1h\n",
      "spark-ui-proxy-6b6d65f7c8-l545g      1/1     Running     3          6d1h\n",
      "spark-wordcount-secure-driver        0/1     Completed   0          35d\n",
      "spark-worker-779686fc9c-4l7nr        1/1     Running     3          6d1h\n",
      "spark-worker-779686fc9c-bc88z        1/1     Running     4          7d2h\n",
      "spark-worker-779686fc9c-bf9tp        1/1     Running     3          6d1h\n",
      "spark-worker-779686fc9c-l5gx5        1/1     Running     11         34d\n",
      "sparkcli-username-54868bdfc8-nvcc9   1/1     Running     4          7d2h\n",
      "sparkhs-5f66748696-sw77p             1/1     Running     384        7d2h\n",
      "tenantcli-0                          1/1     Running     10         35d\n",
      "zk-0                                 1/1     Running     8          11d\n",
      "zk-1                                 1/1     Running     8          11d\n",
      "zk-2                                 1/1     Running     8          11d\n"
     ]
    }
   ],
   "source": [
    "kubectl get pods"
   ]
  },
  {
   "cell_type": "code",
   "execution_count": 11,
   "metadata": {},
   "outputs": [
    {
     "name": "stdout",
     "output_type": "stream",
     "text": [
      "NAME                                 READY   STATUS      RESTARTS   AGE\n",
      "dremio-executor-0                    1/1     Running     14         11d\n",
      "dremio-executor-1                    1/1     Running     14         11d\n",
      "dremio-executor-2                    1/1     Running     14         11d\n",
      "dremio-executor-3                    1/1     Running     6          5d23h\n",
      "dremio-master-0                      1/1     Running     7          11d\n",
      "hivemeta-0                           1/1     Running     3          6d1h\n",
      "kdss-2ntp8-0                         1/1     Running     1          3d\n",
      "kdss-jhs8x-0                         1/1     Running     1          3d\n",
      "kdss-ll65s-0                         1/1     Running     1          3d\n",
      "monitoring-grafana-659ddd86-qmz46    1/1     Running     0          109s\n",
      "spark-master-678464f56-8g7tq         1/1     Running     3          6d1h\n",
      "spark-ui-proxy-6b6d65f7c8-l545g      1/1     Running     3          6d1h\n",
      "spark-wordcount-secure-driver        0/1     Completed   0          35d\n",
      "spark-worker-779686fc9c-4l7nr        1/1     Running     3          6d1h\n",
      "spark-worker-779686fc9c-bc88z        1/1     Running     4          7d2h\n",
      "spark-worker-779686fc9c-bf9tp        1/1     Running     3          6d1h\n",
      "spark-worker-779686fc9c-l5gx5        1/1     Running     11         34d\n",
      "sparkcli-username-54868bdfc8-nvcc9   1/1     Running     4          7d2h\n",
      "sparkhs-5f66748696-sw77p             1/1     Running     384        7d2h\n",
      "tenantcli-0                          1/1     Running     10         35d\n",
      "zk-0                                 1/1     Running     8          11d\n",
      "zk-1                                 1/1     Running     8          11d\n",
      "zk-2                                 1/1     Running     8          11d\n"
     ]
    }
   ],
   "source": [
    "kubectl get pods"
   ]
  },
  {
   "cell_type": "code",
   "execution_count": 12,
   "metadata": {},
   "outputs": [
    {
     "name": "stdout",
     "output_type": "stream",
     "text": [
      "NAME                                              TYPE           CLUSTER-IP       EXTERNAL-IP   PORT(S)                          AGE\n",
      "cli-svc                                           ClusterIP      None             <none>        <none>                           35d\n",
      "dremio-client                                     NodePort       10.99.197.138    <none>        31010:31578/TCP,9047:31087/TCP   11d\n",
      "dremio-cluster-pod                                ClusterIP      None             <none>        9999/TCP                         11d\n",
      "hivemeta-svc                                      ClusterIP      None             <none>        9083/TCP                         35d\n",
      "kdhs-gb5cd                                        ClusterIP      None             <none>        8888/TCP                         3d\n",
      "monitoring-grafana                                NodePort       10.110.16.68     <none>        80:31838/TCP                     2m5s\n",
      "s-kdss-2ntp8-0                                    NodePort       10.110.57.28     <none>        8080:31657/TCP,7077:31307/TCP    3d\n",
      "s-kdss-jhs8x-0                                    NodePort       10.104.230.80    <none>        8998:30489/TCP                   3d\n",
      "s-kdss-ll65s-0                                    NodePort       10.111.154.6     <none>        8081:32319/TCP                   3d\n",
      "spark-master                                      ClusterIP      None             <none>        7077/TCP,8080/TCP                35d\n",
      "spark-ui-proxy                                    NodePort       10.99.30.198     <none>        80:32115/TCP                     35d\n",
      "spark-wordcount-secure-1597648856895-driver-svc   ClusterIP      None             <none>        7078/TCP,7079/TCP                35d\n",
      "spark-wordcount-secure-ui-svc                     ClusterIP      10.110.192.211   <none>        4040/TCP                         35d\n",
      "spark-worker                                      ClusterIP      None             <none>        7077/TCP,8080/TCP                35d\n",
      "sparkhs-svc                                       LoadBalancer   10.107.215.63    <pending>     18480:32581/TCP                  35d\n",
      "zk-cs                                             ClusterIP      10.99.202.87     <none>        2181/TCP                         11d\n",
      "zk-hs                                             ClusterIP      None             <none>        2181/TCP,2888/TCP,3888/TCP       11d\n"
     ]
    }
   ],
   "source": [
    "kubectl get svc"
   ]
  },
  {
   "cell_type": "code",
   "execution_count": 13,
   "metadata": {},
   "outputs": [
    {
     "name": "stdout",
     "output_type": "stream",
     "text": [
      "Name:                     monitoring-grafana\n",
      "Namespace:                team1\n",
      "Labels:                   app.kubernetes.io/instance=monitoring\n",
      "                          app.kubernetes.io/managed-by=Helm\n",
      "                          app.kubernetes.io/name=grafana\n",
      "                          app.kubernetes.io/version=7.1.5\n",
      "                          helm.sh/chart=grafana-5.6.7\n",
      "                          hpecp.hpe.com/hpecp-internal-gateway=true\n",
      "Annotations:              hpecp-internal-gateway/80: ec2-15-236-147-87.eu-west-3.compute.amazonaws.com:10004\n",
      "                          meta.helm.sh/release-name: monitoring\n",
      "                          meta.helm.sh/release-namespace: team1\n",
      "Selector:                 app.kubernetes.io/instance=monitoring,app.kubernetes.io/name=grafana\n",
      "Type:                     NodePort\n",
      "IP:                       10.110.16.68\n",
      "Port:                     service  80/TCP\n",
      "TargetPort:               3000/TCP\n",
      "NodePort:                 service  31838/TCP\n",
      "Endpoints:                10.192.1.220:3000\n",
      "Session Affinity:         None\n",
      "External Traffic Policy:  Cluster\n",
      "Events:\n",
      "  Type    Reason  Age   From         Message\n",
      "  ----    ------  ----  ----         -------\n",
      "  Normal  HpeCp   24m   hpecp-agent  Created HPECP K8S service\n"
     ]
    }
   ],
   "source": [
    "kubectl describe svc monitoring-grafana\n"
   ]
  },
  {
   "cell_type": "code",
   "execution_count": 14,
   "metadata": {},
   "outputs": [
    {
     "name": "stdout",
     "output_type": "stream",
     "text": [
      "AiqizOJ5nfdMZ1wbLlzmvlMXTHaq63dOswSlZLYf\n"
     ]
    }
   ],
   "source": [
    "   kubectl get secret --namespace team1 monitoring-grafana -o jsonpath=\"{.data.admin-password}\" | base64 --decode ; echo"
   ]
  },
  {
   "cell_type": "code",
   "execution_count": null,
   "metadata": {},
   "outputs": [],
   "source": []
  }
 ],
 "metadata": {
  "kernelspec": {
   "display_name": "Bash",
   "language": "bash",
   "name": "bash"
  },
  "language_info": {
   "codemirror_mode": "shell",
   "file_extension": ".sh",
   "mimetype": "text/x-sh",
   "name": "bash"
  }
 },
 "nbformat": 4,
 "nbformat_minor": 4
}
