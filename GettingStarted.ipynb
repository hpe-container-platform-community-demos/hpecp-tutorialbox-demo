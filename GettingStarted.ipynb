{
 "cells": [
  {
   "cell_type": "markdown",
   "metadata": {},
   "source": [
    "## Welcome to HPE Container Platform Tutorialbox Container"
   ]
  },
  {
   "cell_type": "markdown",
   "metadata": {},
   "source": [
    "![image](images/hpecp_wallpaper.jpg)"
   ]
  },
  {
   "cell_type": "markdown",
   "metadata": {},
   "source": [
    "The HPE Container Platform Tutorialbox is an Interactive way to get familiar with the HPE Container Platform and the included Data Fabric. The Goal for the Tutorial Box is to provide different Personas including Data Engineers, Data Scientists, App Developers and Operators some examples for getting familiar with the Platform.  \n",
    "\n",
    "![image](images/container-platform.jpg)"
   ]
  },
  {
   "cell_type": "markdown",
   "metadata": {},
   "source": [
    "\n",
    "\n",
    "The Tutorials and Examples are grouped together to address the requirements and Interests for the different Personas\n",
    "\n",
    "- Data Engineers  ->  hpecp-tutorialbox-demo/Tutorials/for_Data_Engineers\n",
    "- Data Scientists ->  hpecp-tutorialbox-demo/Tutorials/for_Data_Scientists\n",
    "- App Developers  ->  hpecp-tutorialbox-demo/Tutorials/for_App_Developers\n",
    "- Operators       ->  hpecp-tutorialbox-demo/Tutorials/for_Operators\n",
    "\n",
    "\n"
   ]
  },
  {
   "cell_type": "markdown",
   "metadata": {},
   "source": [
    "## 1. Configure your Environment\n",
    "The First step is to configure the Tutorialbox to access your HPECP Environment.\n",
    "\n",
    "We will use the HPECP API to query the HPE Container Platform to receive a list of kubernetes clusters.  \n",
    "You can find more information around the hpecp api on the following github project\n",
    "\n",
    "https://github.com/hpe-container-platform-community/hpecp-python-library\n",
    "\n",
    "\n",
    "\n",
    "Prerequisites:\n",
    "- API_HOST -> IP Address of the HPECPController Node \n",
    "- USERNAME -> The name for the HPECDP admin user \n",
    "- PASSWORD -> The password for the admin user\n",
    "\n",
    "Please change the variables for api_host, username and password with your environment specific infos below and submit. "
   ]
  },
  {
   "cell_type": "markdown",
   "metadata": {},
   "source": [
    "## Provide your User Credentials\n",
    "Please adjust the connection parameters for your environment"
   ]
  },
  {
   "cell_type": "code",
   "execution_count": 1,
   "metadata": {},
   "outputs": [],
   "source": [
    "\n",
    "cat > $HOME/data/hpecp.conf <<EOF\n",
    "[default]\n",
    "api_host = 15.236.22.160\n",
    "api_port = 8080\n",
    "use_ssl = True\n",
    "verify_ssl = False\n",
    "warn_ssl = False\n",
    "username = admin          \n",
    "password = admin123       \n",
    "EOF"
   ]
  },
  {
   "cell_type": "code",
   "execution_count": 2,
   "metadata": {},
   "outputs": [],
   "source": [
    "export HPECP_CONFIG_FILE=$HOME/data/hpecp.conf"
   ]
  },
  {
   "cell_type": "markdown",
   "metadata": {},
   "source": [
    "## 2. Check if you can connect to the HPECP Environment"
   ]
  },
  {
   "cell_type": "markdown",
   "metadata": {},
   "source": [
    "### 2a.) List Kubernetes Clusters through the HPECP API\n",
    "\n"
   ]
  },
  {
   "cell_type": "code",
   "execution_count": 14,
   "metadata": {},
   "outputs": [
    {
     "name": "stdout",
     "output_type": "stream",
     "text": [
      "+----------------------+------------------+-------------+-------------+\n",
      "|          id          |       name       | description | k8s_version |\n",
      "+----------------------+------------------+-------------+-------------+\n",
      "| /api/v2/k8scluster/4 | kubeflow_cluster |             |   1.17.0    |\n",
      "| /api/v2/k8scluster/3 |   development    |             |   1.17.0    |\n",
      "+----------------------+------------------+-------------+-------------+\n"
     ]
    }
   ],
   "source": [
    "hpecp k8scluster list --columns [id,name,description,k8s_version]"
   ]
  },
  {
   "cell_type": "markdown",
   "metadata": {},
   "source": [
    "#### `Do not continue if you dont get any output from the command above`"
   ]
  },
  {
   "cell_type": "markdown",
   "metadata": {},
   "source": [
    " ### 2b.) Create kube_admin_config\n",
    " Execute the following command to create the Kubernetes Cluster Configuration\n"
   ]
  },
  {
   "cell_type": "code",
   "execution_count": 10,
   "metadata": {},
   "outputs": [
    {
     "name": "stdout",
     "output_type": "stream",
     "text": [
      "Clustername detected: development\n",
      "Clustername detected: kubeflow_cluster\n"
     ]
    }
   ],
   "source": [
    "/home/hpecp/data/hpecp-tutorialbox-demo/tools/k8s-discovery.sh"
   ]
  },
  {
   "cell_type": "markdown",
   "metadata": {},
   "source": [
    " ### 2c.) Check if you are able to list and access  the Kubernetes Cluster using the kubectl cli \n",
    "#### List your kubernetes Cluster"
   ]
  },
  {
   "cell_type": "code",
   "execution_count": 11,
   "metadata": {},
   "outputs": [
    {
     "name": "stdout",
     "output_type": "stream",
     "text": [
      "NAME\n",
      "development\n",
      "kubeflow_cluster\n"
     ]
    }
   ],
   "source": [
    "kubectl config get-clusters"
   ]
  },
  {
   "cell_type": "markdown",
   "metadata": {},
   "source": [
    "#### Select a kubernetes Cluster"
   ]
  },
  {
   "cell_type": "code",
   "execution_count": 12,
   "metadata": {},
   "outputs": [
    {
     "name": "stdout",
     "output_type": "stream",
     "text": [
      "Switched to context \"development\".\n"
     ]
    }
   ],
   "source": [
    "kubectx development"
   ]
  },
  {
   "cell_type": "markdown",
   "metadata": {},
   "source": [
    "#### List the Namespaces in your Cluster"
   ]
  },
  {
   "cell_type": "code",
   "execution_count": 36,
   "metadata": {},
   "outputs": [
    {
     "name": "stdout",
     "output_type": "stream",
     "text": [
      "NAME      STATUS   AGE\n",
      "default   Active   69d\n"
     ]
    }
   ],
   "source": [
    "kubectl get ns default"
   ]
  },
  {
   "cell_type": "markdown",
   "metadata": {},
   "source": [
    "#### Select a Namespace\n",
    "The tool kubens can be used to easily switch between namespace/tenants"
   ]
  },
  {
   "cell_type": "code",
   "execution_count": 28,
   "metadata": {},
   "outputs": [
    {
     "name": "stdout",
     "output_type": "stream",
     "text": [
      "Context \"development\" modified.\n",
      "Active namespace is \"default\".\n"
     ]
    }
   ],
   "source": [
    "kubens default"
   ]
  },
  {
   "cell_type": "markdown",
   "metadata": {},
   "source": [
    "#### list Pods running in your Namespace\n",
    "kubectl pods will list all the pods running in the namespace"
   ]
  },
  {
   "cell_type": "code",
   "execution_count": 29,
   "metadata": {},
   "outputs": [
    {
     "name": "stdout",
     "output_type": "stream",
     "text": [
      "NAME                                READY   STATUS    RESTARTS   AGE\n",
      "mysql-1586443628-589d9d5fc5-4lpjq   1/1     Running   32         68d\n"
     ]
    }
   ],
   "source": [
    "kubectl get pods"
   ]
  },
  {
   "cell_type": "markdown",
   "metadata": {},
   "source": [
    "# You are now Ready to start with the tutorials"
   ]
  },
  {
   "cell_type": "markdown",
   "metadata": {},
   "source": [
    "## List of Tutorials \n",
    "\n",
    "Data Engineer\n",
    "\n",
    "*   Red\n",
    "*   Green\n",
    "*   Blue\n",
    "\n",
    "Data Scientist\n",
    "\n",
    "*   Red\n",
    "*   Green\n",
    "*   Blue\n",
    "\n",
    "App Developer\n",
    "\n",
    "*   Red\n",
    "*   Green\n",
    "*   Blue\n",
    "\n",
    "Operator\n",
    "\n",
    "*   Red\n",
    "*   Green\n",
    "*   Blue"
   ]
  },
  {
   "cell_type": "markdown",
   "metadata": {},
   "source": [
    "## Documentation Links\n",
    "\n",
    "- HPE Container Platform\n",
    "\n",
    "http://docs.bluedata.com/home\n",
    "\n",
    "- Kubernetes\n",
    "\n",
    "https://kubernetes.io/docs/concepts/\n",
    "\n",
    "- HPE Data Fabric\n",
    "\n",
    "https://mapr.com/docs/\n",
    "\n",
    "\n",
    "\n"
   ]
  },
  {
   "cell_type": "code",
   "execution_count": null,
   "metadata": {},
   "outputs": [],
   "source": []
  }
 ],
 "metadata": {
  "kernelspec": {
   "display_name": "Bash",
   "language": "bash",
   "name": "bash"
  },
  "language_info": {
   "codemirror_mode": "shell",
   "file_extension": ".sh",
   "mimetype": "text/x-sh",
   "name": "bash"
  }
 },
 "nbformat": 4,
 "nbformat_minor": 4
}
