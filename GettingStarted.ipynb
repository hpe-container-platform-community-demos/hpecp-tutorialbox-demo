{
 "cells": [
  {
   "cell_type": "markdown",
   "metadata": {},
   "source": [
    "## Welcome to HPE Container Platform Tutorialbox Container"
   ]
  },
  {
   "cell_type": "markdown",
   "metadata": {},
   "source": [
    "![image](images/hpecp_wallpaper.jpg)"
   ]
  },
  {
   "cell_type": "markdown",
   "metadata": {},
   "source": [
    "The HPE Container Platform Tutorialbox is an Interactive way to get familiar with the HPE Container Platform and the included Data Fabric. The Goal for the Tutorial Box is to provide different Personas including Data Engineers, Data Scientists, App Developers and Operators some examples for getting familiar with the Platform.  \n",
    "\n",
    "![image](images/container-platform.jpg)"
   ]
  },
  {
   "cell_type": "markdown",
   "metadata": {},
   "source": [
    "\n",
    "\n",
    "The Tutorials and Examples are grouped together to address the requirements and Interests for the different Personas\n",
    "\n",
    "- Data Engineers  ->  hpecp-tutorialbox-demo/Tutorials/for_Data_Engineers\n",
    "- Data Scientists ->  hpecp-tutorialbox-demo/Tutorials/for_Data_Scientists\n",
    "- App Developers  ->  hpecp-tutorialbox-demo/Tutorials/for_App_Developers\n",
    "- Operators       ->  hpecp-tutorialbox-demo/Tutorials/for_Operators\n",
    "\n",
    "\n"
   ]
  },
  {
   "cell_type": "markdown",
   "metadata": {},
   "source": [
    "## 1. Configure your Environment\n",
    "The First step is to configure the Tutorialbox to access your HPECP Environment.\n",
    "\n",
    "We will use the HPECP API to query the HPE Container Platform to receive a list of kubernetes clusters.  \n",
    "You can find more information around the hpecp api on the following github project\n",
    "\n",
    "https://github.com/hpe-container-platform-community/hpecp-python-library\n",
    "\n",
    "\n",
    "\n",
    "Prerequisites:\n",
    "- API_HOST -> IP Address of the HPECPController Node \n",
    "- USERNAME -> The name for the HPECDP admin user \n",
    "- PASSWORD -> The password for the admin user\n",
    "\n",
    "Please change the variables for api_host, username and password with your environment specific infos below and submit. "
   ]
  },
  {
   "cell_type": "markdown",
   "metadata": {},
   "source": [
    "## Provide your User Credentials\n",
    "Please adjust the connection parameters for your environment"
   ]
  },
  {
   "cell_type": "code",
   "execution_count": 2,
   "metadata": {},
   "outputs": [],
   "source": [
    "\n",
    "cat > $HOME/data/hpecp.conf <<EOF\n",
    "[default]\n",
    "api_host = 15.236.22.160\n",
    "api_port = 8080\n",
    "use_ssl = True\n",
    "verify_ssl = False\n",
    "warn_ssl = False\n",
    "username = admin          \n",
    "password = admin123       \n",
    "EOF"
   ]
  },
  {
   "cell_type": "code",
   "execution_count": 3,
   "metadata": {},
   "outputs": [],
   "source": [
    "export HPECP_CONFIG_FILE=$HOME/data/hpecp.conf"
   ]
  },
  {
   "cell_type": "markdown",
   "metadata": {},
   "source": [
    "## 2. Check if you can connect to the HPECP Environment"
   ]
  },
  {
   "cell_type": "markdown",
   "metadata": {},
   "source": [
    "### 2a.) List Kubernetes Clusters through the HPECP API\n",
    "\n"
   ]
  },
  {
   "cell_type": "code",
   "execution_count": 4,
   "metadata": {},
   "outputs": [
    {
     "name": "stdout",
     "output_type": "stream",
     "text": [
      "+----------------------+-------------+-------------+--------+\n",
      "|          id          |    name     | description | status |\n",
      "+----------------------+-------------+-------------+--------+\n",
      "| /api/v2/k8scluster/3 | development |             | ready  |\n",
      "+----------------------+-------------+-------------+--------+\n"
     ]
    }
   ],
   "source": [
    "hpecp k8scluster list "
   ]
  },
  {
   "cell_type": "markdown",
   "metadata": {},
   "source": [
    " ### 2b.) Create kube_admin_config\n",
    " Execute the following command to create the Kubernetes Admin configs for all clusters managed by HPECP"
   ]
  },
  {
   "cell_type": "code",
   "execution_count": 16,
   "metadata": {},
   "outputs": [],
   "source": [
    "mkdir -p /home/${NB_USER}/data/k8sconfig/\n",
    "CLUSTERS=$(hpecp k8scluster list --columns [id,name]  --output text | sed 1d | tr -s '[:blank:]' ',')\n",
    "for CLUSTER in $CLUSTERS;\n",
    "do\n",
    "    ID=$(echo $CLUSTER | cut -d ',' -f 1)\n",
    "    NAME=$(echo $CLUSTER | cut -d ',' -f 2)\n",
    "    hpecp k8scluster admin-kube-config $ID > /home/${NB_USER}/data/k8sconfig/${NAME}_kube.conf\n",
    "done\n",
    "unset KUBECONFIG\n",
    "for i in $(find /home/${NB_USER}/data/k8sconfig/*_kube.conf -maxdepth 0 -type f)\n",
    "do\n",
    "         export KUBECONFIG=$KUBECONFIG:${i}\n",
    " done\n",
    "\n",
    "\n"
   ]
  },
  {
   "cell_type": "markdown",
   "metadata": {},
   "source": [
    " ### 2c.) Check if you are able to connect to the Kubernetes Cluster using the kubectl cli \n",
    " You should receive the node list for your kubernetes cluster"
   ]
  },
  {
   "cell_type": "code",
   "execution_count": 29,
   "metadata": {},
   "outputs": [
    {
     "name": "stdout",
     "output_type": "stream",
     "text": [
      "NAME\n",
      "k8s-3\n"
     ]
    }
   ],
   "source": [
    "kubectl config get-clusters"
   ]
  },
  {
   "cell_type": "code",
   "execution_count": 27,
   "metadata": {},
   "outputs": [
    {
     "name": "stdout",
     "output_type": "stream",
     "text": [
      "NAME                                       STATUS   ROLES    AGE   VERSION\n",
      "ip-10-1-0-122.eu-west-3.compute.internal   Ready    worker   60d   v1.17.0\n",
      "ip-10-1-0-154.eu-west-3.compute.internal   Ready    worker   60d   v1.17.0\n",
      "ip-10-1-0-16.eu-west-3.compute.internal    Ready    master   68d   v1.17.0\n",
      "ip-10-1-0-254.eu-west-3.compute.internal   Ready    worker   60d   v1.17.0\n",
      "ip-10-1-0-56.eu-west-3.compute.internal    Ready    worker   68d   v1.17.0\n",
      "ip-10-1-0-64.eu-west-3.compute.internal    Ready    worker   68d   v1.17.0\n"
     ]
    }
   ],
   "source": [
    "kubectl get nodes"
   ]
  },
  {
   "cell_type": "markdown",
   "metadata": {},
   "source": [
    "# You are now Ready to start with the tutorials"
   ]
  },
  {
   "cell_type": "markdown",
   "metadata": {},
   "source": [
    "## Documentation Links\n",
    "\n",
    "- HPE Container Platform\n",
    "\n",
    "http://docs.bluedata.com/home\n",
    "\n",
    "- Kubernetes\n",
    "\n",
    "https://kubernetes.io/docs/concepts/\n",
    "\n",
    "- HPE Data Fabric\n",
    "\n",
    "https://mapr.com/docs/\n",
    "\n",
    "\n",
    "\n"
   ]
  },
  {
   "cell_type": "code",
   "execution_count": null,
   "metadata": {},
   "outputs": [],
   "source": []
  }
 ],
 "metadata": {
  "kernelspec": {
   "display_name": "Bash",
   "language": "bash",
   "name": "bash"
  },
  "language_info": {
   "codemirror_mode": "shell",
   "file_extension": ".sh",
   "mimetype": "text/x-sh",
   "name": "bash"
  }
 },
 "nbformat": 4,
 "nbformat_minor": 4
}
